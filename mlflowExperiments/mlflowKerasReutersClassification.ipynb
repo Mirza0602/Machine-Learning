{
 "cells": [
  {
   "cell_type": "markdown",
   "metadata": {},
   "source": [
    "# Logging Keras Models with mlflow\n",
    "\n",
    "* Author: Johannes Maucher\n",
    "* Last Update: 04.04.2022\n",
    "\n",
    "**Goal:** In this notebook the logging of Keras Machine Learning Models with [mlflow](https://mlflow.org/docs/latest/index.html) shall be demonstrated. For this we apply a text classification task on the Reuter's newswire."
   ]
  },
  {
   "cell_type": "code",
   "execution_count": 1,
   "metadata": {},
   "outputs": [],
   "source": [
    "import numpy as np\n",
    "import tensorflow.keras\n",
    "from tensorflow.keras.datasets import reuters\n",
    "from tensorflow.keras.models import Sequential\n",
    "from tensorflow.keras.layers import Dense, Dropout, Activation\n",
    "from tensorflow.keras.preprocessing.text import Tokenizer\n",
    "from tensorflow.keras import utils\n",
    "import warnings\n",
    "warnings.filterwarnings(\"ignore\")"
   ]
  },
  {
   "cell_type": "code",
   "execution_count": 2,
   "metadata": {},
   "outputs": [],
   "source": [
    "# The following import and function call are the only additions to code required\n",
    "# to automatically log metrics and parameters to MLflow.\n",
    "import mlflow\n",
    "import mlflow.keras"
   ]
  },
  {
   "cell_type": "markdown",
   "metadata": {},
   "source": [
    "## Data Access and split in training- and test-partition"
   ]
  },
  {
   "cell_type": "code",
   "execution_count": 6,
   "metadata": {},
   "outputs": [],
   "source": [
    "max_words = 1000 # only this number of most frequent words in the corpus are regarded (vocabulary-size)\n",
    "batch_size = 32\n",
    "epochs = 5"
   ]
  },
  {
   "cell_type": "code",
   "execution_count": 7,
   "metadata": {},
   "outputs": [
    {
     "name": "stdout",
     "output_type": "stream",
     "text": [
      "Loading data...\n"
     ]
    }
   ],
   "source": [
    "print('Loading data...')\n",
    "(x_train, y_train), (x_test, y_test) = reuters.load_data(num_words=max_words,\n",
    "                                                         test_split=0.2)"
   ]
  },
  {
   "cell_type": "code",
   "execution_count": 8,
   "metadata": {},
   "outputs": [
    {
     "name": "stdout",
     "output_type": "stream",
     "text": [
      "8982 train sequences\n",
      "2246 test sequences\n",
      "46 classes\n"
     ]
    }
   ],
   "source": [
    "# restore np.load for future normal usage\n",
    "#np.load = np_load_old\n",
    "\n",
    "print(len(x_train), 'train sequences')\n",
    "print(len(x_test), 'test sequences')\n",
    "\n",
    "num_classes = np.max(y_train) + 1\n",
    "print(num_classes, 'classes')"
   ]
  },
  {
   "cell_type": "markdown",
   "metadata": {},
   "source": [
    "Texts are already provided as lists of indicees - each index uniquely identifies a word. The first 10 words of the first text in the trainingset are: "
   ]
  },
  {
   "cell_type": "code",
   "execution_count": 9,
   "metadata": {},
   "outputs": [
    {
     "data": {
      "text/plain": [
       "[1, 2, 2, 8, 43, 10, 447, 5, 25, 207]"
      ]
     },
     "execution_count": 9,
     "metadata": {},
     "output_type": "execute_result"
    }
   ],
   "source": [
    "x_train[0][:10]"
   ]
  },
  {
   "cell_type": "markdown",
   "metadata": {},
   "source": [
    "## Create Bag-of-Words matrix"
   ]
  },
  {
   "cell_type": "code",
   "execution_count": 10,
   "metadata": {},
   "outputs": [
    {
     "name": "stdout",
     "output_type": "stream",
     "text": [
      "Vectorizing sequence data...\n",
      "x_train shape: (8982, 1000)\n",
      "x_test shape: (2246, 1000)\n",
      "Convert class vector to binary class matrix (for use with categorical_crossentropy)\n"
     ]
    }
   ],
   "source": [
    "print('Vectorizing sequence data...')\n",
    "tokenizer = Tokenizer(num_words=max_words)\n",
    "x_train = tokenizer.sequences_to_matrix(x_train, mode='binary')\n",
    "x_test = tokenizer.sequences_to_matrix(x_test, mode='binary')\n",
    "print('x_train shape:', x_train.shape)\n",
    "print('x_test shape:', x_test.shape)\n",
    "\n",
    "print('Convert class vector to binary class matrix '\n",
    "      '(for use with categorical_crossentropy)')"
   ]
  },
  {
   "cell_type": "markdown",
   "metadata": {},
   "source": [
    "## Set mlflow experiment"
   ]
  },
  {
   "cell_type": "code",
   "execution_count": 11,
   "metadata": {},
   "outputs": [
    {
     "name": "stderr",
     "output_type": "stream",
     "text": [
      "2022/04/05 12:08:26 INFO mlflow.tracking.fluent: Experiment with name 'Reuters Newswire Topic Classification' does not exist. Creating a new experiment.\n"
     ]
    },
    {
     "data": {
      "text/plain": [
       "<Experiment: artifact_location='file:///Users/johannes/gitprojects/dsm-ml/mlbook/mlflowExperiments/mlruns/1', experiment_id='1', lifecycle_stage='active', name='Reuters Newswire Topic Classification', tags={}>"
      ]
     },
     "execution_count": 11,
     "metadata": {},
     "output_type": "execute_result"
    }
   ],
   "source": [
    "mlflow.set_experiment(\"Reuters Newswire Topic Classification\")"
   ]
  },
  {
   "cell_type": "code",
   "execution_count": 13,
   "metadata": {},
   "outputs": [],
   "source": [
    "mlflow.keras.autolog()"
   ]
  },
  {
   "cell_type": "markdown",
   "metadata": {},
   "source": [
    "## Define Architecture and Training of Neural Network"
   ]
  },
  {
   "cell_type": "code",
   "execution_count": 14,
   "metadata": {},
   "outputs": [
    {
     "name": "stdout",
     "output_type": "stream",
     "text": [
      "y_train shape: (8982, 46)\n",
      "y_test shape: (2246, 46)\n"
     ]
    }
   ],
   "source": [
    "y_train = utils.to_categorical(y_train, num_classes)\n",
    "y_test = utils.to_categorical(y_test, num_classes)\n",
    "print('y_train shape:', y_train.shape)\n",
    "print('y_test shape:', y_test.shape)"
   ]
  },
  {
   "cell_type": "code",
   "execution_count": 15,
   "metadata": {},
   "outputs": [
    {
     "name": "stdout",
     "output_type": "stream",
     "text": [
      "Building model...\n"
     ]
    },
    {
     "name": "stderr",
     "output_type": "stream",
     "text": [
      "2022-04-05 12:09:23.833707: I tensorflow/core/platform/cpu_feature_guard.cc:151] This TensorFlow binary is optimized with oneAPI Deep Neural Network Library (oneDNN) to use the following CPU instructions in performance-critical operations:  SSE4.1 SSE4.2 AVX AVX2 FMA\n",
      "To enable them in other operations, rebuild TensorFlow with the appropriate compiler flags.\n"
     ]
    },
    {
     "name": "stdout",
     "output_type": "stream",
     "text": [
      "Model: \"sequential\"\n",
      "_________________________________________________________________\n",
      " Layer (type)                Output Shape              Param #   \n",
      "=================================================================\n",
      " dense (Dense)               (None, 512)               512512    \n",
      "                                                                 \n",
      " activation (Activation)     (None, 512)               0         \n",
      "                                                                 \n",
      " dense_1 (Dense)             (None, 46)                23598     \n",
      "                                                                 \n",
      " activation_1 (Activation)   (None, 46)                0         \n",
      "                                                                 \n",
      "=================================================================\n",
      "Total params: 536,110\n",
      "Trainable params: 536,110\n",
      "Non-trainable params: 0\n",
      "_________________________________________________________________\n"
     ]
    }
   ],
   "source": [
    "print('Building model...')\n",
    "model = Sequential()\n",
    "model.add(Dense(512, input_shape=(max_words,)))\n",
    "model.add(Activation('relu'))\n",
    "#model.add(Dropout(0.5))\n",
    "model.add(Dense(num_classes))\n",
    "model.add(Activation('softmax'))\n",
    "model.summary()"
   ]
  },
  {
   "cell_type": "code",
   "execution_count": 16,
   "metadata": {},
   "outputs": [],
   "source": [
    "model.compile(loss='categorical_crossentropy',optimizer='adam',metrics=['accuracy'])"
   ]
  },
  {
   "cell_type": "code",
   "execution_count": 17,
   "metadata": {},
   "outputs": [
    {
     "name": "stderr",
     "output_type": "stream",
     "text": [
      "2022/04/05 12:09:29 INFO mlflow.utils.autologging_utils: Created MLflow autologging run with ID 'ad7cc9360d7f4f7ab794a7dac675fac2', which will track hyperparameters, performance metrics, model artifacts, and lineage information for the current keras workflow\n"
     ]
    },
    {
     "name": "stdout",
     "output_type": "stream",
     "text": [
      "Epoch 1/5\n",
      "253/253 [==============================] - 2s 3ms/step - loss: 1.2466 - accuracy: 0.7260 - val_loss: 0.9851 - val_accuracy: 0.7809\n",
      "Epoch 2/5\n",
      "253/253 [==============================] - 1s 2ms/step - loss: 0.5883 - accuracy: 0.8666 - val_loss: 0.8975 - val_accuracy: 0.7953\n",
      "Epoch 3/5\n",
      "253/253 [==============================] - 1s 2ms/step - loss: 0.3651 - accuracy: 0.9141 - val_loss: 0.8980 - val_accuracy: 0.7920\n",
      "Epoch 4/5\n",
      "253/253 [==============================] - 1s 2ms/step - loss: 0.2671 - accuracy: 0.9329 - val_loss: 0.9360 - val_accuracy: 0.7909\n",
      "Epoch 5/5\n",
      "253/253 [==============================] - 1s 2ms/step - loss: 0.2216 - accuracy: 0.9456 - val_loss: 0.9381 - val_accuracy: 0.7987\n"
     ]
    },
    {
     "name": "stderr",
     "output_type": "stream",
     "text": [
      "2022-04-05 12:09:36.057190: W tensorflow/python/util/util.cc:368] Sets are not currently considered sequences, but this may change in the future, so consider avoiding using them.\n"
     ]
    },
    {
     "name": "stdout",
     "output_type": "stream",
     "text": [
      "INFO:tensorflow:Assets written to: /var/folders/68/9tltm6l520v0stj3qjlc5v9w0000gn/T/tmpukifmtwi/model/data/model/assets\n"
     ]
    }
   ],
   "source": [
    "history = model.fit(x_train, y_train,\n",
    "                    batch_size=batch_size,\n",
    "                    epochs=epochs,\n",
    "                    verbose=1,\n",
    "                    validation_split=0.1)"
   ]
  },
  {
   "cell_type": "code",
   "execution_count": 19,
   "metadata": {},
   "outputs": [
    {
     "name": "stdout",
     "output_type": "stream",
     "text": [
      "71/71 [==============================] - 0s 953us/step - loss: 0.9494 - accuracy: 0.7872\n",
      "Test score: 0.9494234323501587\n",
      "Test accuracy: 0.7871772050857544\n"
     ]
    }
   ],
   "source": [
    "score = model.evaluate(x_test, y_test,\n",
    "                       batch_size=batch_size, verbose=1)\n",
    "print('Test score:', score[0])\n",
    "print('Test accuracy:', score[1])"
   ]
  },
  {
   "cell_type": "code",
   "execution_count": 41,
   "metadata": {},
   "outputs": [
    {
     "data": {
      "image/png": "[encoded data removed]",
      "text/plain": [
       "<Figure size 720x576 with 1 Axes>"
      ]
     },
     "metadata": {
      "needs_background": "light"
     },
     "output_type": "display_data"
    }
   ],
   "source": [
    "from matplotlib import pyplot as plt\n",
    "acc = history.history['accuracy']\n",
    "val_acc = history.history['val_accuracy']\n",
    "max_val_acc=np.max(val_acc)\n",
    "\n",
    "epochs = range(1, len(acc) + 1)\n",
    "\n",
    "fig = plt.figure(figsize=(10,8))\n",
    "plt.grid(True)\n",
    "plt.plot(epochs, acc, 'bo-', label='Training accuracy')\n",
    "plt.plot(epochs, val_acc, 'ro-', label='Validation accuracy')\n",
    "plt.title('Training and validation accuracy')\n",
    "plt.legend()\n",
    "plt.savefig(\"reutersMLPclassification.png\")\n",
    "plt.show()"
   ]
  },
  {
   "cell_type": "markdown",
   "metadata": {},
   "source": [
    "## Show logged data"
   ]
  },
  {
   "cell_type": "markdown",
   "metadata": {},
   "source": [
    "### List experiments"
   ]
  },
  {
   "cell_type": "code",
   "execution_count": 31,
   "metadata": {
    "scrolled": true
   },
   "outputs": [
    {
     "data": {
      "text/plain": [
       "[<Experiment: artifact_location='file:///Users/johannes/gitprojects/dsm-ml/mlbook/mlflowExperiments/mlruns/0', experiment_id='0', lifecycle_stage='active', name='Default', tags={}>,\n",
       " <Experiment: artifact_location='file:///Users/johannes/gitprojects/dsm-ml/mlbook/mlflowExperiments/mlruns/1', experiment_id='1', lifecycle_stage='active', name='Reuters Newswire Topic Classification', tags={}>]"
      ]
     },
     "execution_count": 31,
     "metadata": {},
     "output_type": "execute_result"
    }
   ],
   "source": [
    "mlflow.list_experiments()"
   ]
  },
  {
   "cell_type": "markdown",
   "metadata": {},
   "source": [
    "### List runs of selected experiment "
   ]
  },
  {
   "cell_type": "code",
   "execution_count": 32,
   "metadata": {},
   "outputs": [
    {
     "data": {
      "text/plain": [
       "[<RunInfo: artifact_uri='file:///Users/johannes/gitprojects/dsm-ml/mlbook/mlflowExperiments/mlruns/1/ad7cc9360d7f4f7ab794a7dac675fac2/artifacts', end_time=1649153387077, experiment_id='1', lifecycle_stage='active', run_id='ad7cc9360d7f4f7ab794a7dac675fac2', run_uuid='ad7cc9360d7f4f7ab794a7dac675fac2', start_time=1649153369725, status='FINISHED', user_id='johannes'>]"
      ]
     },
     "execution_count": 32,
     "metadata": {},
     "output_type": "execute_result"
    }
   ],
   "source": [
    "mlflow.list_run_infos(experiment_id=\"1\") "
   ]
  },
  {
   "cell_type": "markdown",
   "metadata": {},
   "source": [
    "### List logged data of selected run"
   ]
  },
  {
   "cell_type": "code",
   "execution_count": 33,
   "metadata": {},
   "outputs": [
    {
     "data": {
      "text/plain": [
       "<Run: data=<RunData: metrics={'accuracy': 0.9455647468566895,\n",
       " 'loss': 0.221638023853302,\n",
       " 'val_accuracy': 0.7986651659011841,\n",
       " 'val_loss': 0.9381071329116821}, params={'batch_size': '32',\n",
       " 'class_weight': 'None',\n",
       " 'epochs': '5',\n",
       " 'epsilon': '1e-07',\n",
       " 'initial_epoch': '0',\n",
       " 'learning_rate': '0.001',\n",
       " 'max_queue_size': '10',\n",
       " 'num_layers': '4',\n",
       " 'optimizer_name': 'Adam',\n",
       " 'sample_weight': 'None',\n",
       " 'shuffle': 'True',\n",
       " 'steps_per_epoch': 'None',\n",
       " 'use_multiprocessing': 'False',\n",
       " 'validation_batch_size': 'None',\n",
       " 'validation_freq': '1',\n",
       " 'validation_split': '0.1',\n",
       " 'validation_steps': 'None',\n",
       " 'workers': '1'}, tags={'mlflow.autologging': 'keras',\n",
       " 'mlflow.log-model.history': '[{\"run_id\": \"ad7cc9360d7f4f7ab794a7dac675fac2\", '\n",
       "                             '\"artifact_path\": \"model\", \"utc_time_created\": '\n",
       "                             '\"2022-04-05 10:09:35.774806\", \"flavors\": '\n",
       "                             '{\"keras\": {\"keras_module\": \"tensorflow.keras\", '\n",
       "                             '\"keras_version\": \"2.7.0\", \"save_format\": \"tf\", '\n",
       "                             '\"data\": \"data\"}, \"python_function\": '\n",
       "                             '{\"loader_module\": \"mlflow.keras\", '\n",
       "                             '\"python_version\": \"3.10.4\", \"data\": \"data\", '\n",
       "                             '\"env\": \"conda.yaml\"}}, \"model_uuid\": '\n",
       "                             '\"0fc588ccaa5648f89b8e96f63f13e932\"}]',\n",
       " 'mlflow.source.name': '/Users/johannes/opt/anaconda3/envs/ss22/lib/python3.10/site-packages/ipykernel_launcher.py',\n",
       " 'mlflow.source.type': 'LOCAL',\n",
       " 'mlflow.user': 'johannes'}>, info=<RunInfo: artifact_uri='file:///Users/johannes/gitprojects/dsm-ml/mlbook/mlflowExperiments/mlruns/1/ad7cc9360d7f4f7ab794a7dac675fac2/artifacts', end_time=1649153387077, experiment_id='1', lifecycle_stage='active', run_id='ad7cc9360d7f4f7ab794a7dac675fac2', run_uuid='ad7cc9360d7f4f7ab794a7dac675fac2', start_time=1649153369725, status='FINISHED', user_id='johannes'>>"
      ]
     },
     "execution_count": 33,
     "metadata": {},
     "output_type": "execute_result"
    }
   ],
   "source": [
    "mlflow.get_run(run_id=\"ad7cc9360d7f4f7ab794a7dac675fac2\")"
   ]
  },
  {
   "cell_type": "markdown",
   "metadata": {},
   "source": [
    "### Add additional information to an already existing run\n",
    "#### Add Learning Curve"
   ]
  },
  {
   "cell_type": "code",
   "execution_count": 34,
   "metadata": {},
   "outputs": [
    {
     "data": {
      "text/plain": [
       "<ActiveRun: >"
      ]
     },
     "execution_count": 34,
     "metadata": {},
     "output_type": "execute_result"
    }
   ],
   "source": [
    "mlflow.start_run(run_id=\"ad7cc9360d7f4f7ab794a7dac675fac2\")"
   ]
  },
  {
   "cell_type": "code",
   "execution_count": 42,
   "metadata": {},
   "outputs": [],
   "source": [
    "mlflow.log_figure(fig,\"reutersMLPclassification.png\")"
   ]
  },
  {
   "cell_type": "code",
   "execution_count": null,
   "metadata": {},
   "outputs": [],
   "source": []
  }
 ],
 "metadata": {
  "kernelspec": {
   "display_name": "Python 3 (ipykernel)",
   "language": "python",
   "name": "python3"
  },
  "language_info": {
   "codemirror_mode": {
    "name": "ipython",
    "version": 3
   },
   "file_extension": ".py",
   "mimetype": "text/x-python",
   "name": "python",
   "nbconvert_exporter": "python",
   "pygments_lexer": "ipython3",
   "version": "3.10.4"
  },
  "toc": {
   "base_numbering": 1,
   "nav_menu": {},
   "number_sections": true,
   "sideBar": true,
   "skip_h1_title": false,
   "title_cell": "Table of Contents",
   "title_sidebar": "Contents",
   "toc_cell": false,
   "toc_position": {},
   "toc_section_display": true,
   "toc_window_display": false
  }
 },
 "nbformat": 4,
 "nbformat_minor": 4
}
