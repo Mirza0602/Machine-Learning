{
 "cells": [
  {
   "cell_type": "markdown",
   "metadata": {},
   "source": [
    "# Learn evaluate and compare Classification Models "
   ]
  },
  {
   "cell_type": "markdown",
   "metadata": {},
   "source": [
    "* Author: Johannes Maucher\n",
    "* Last Update: 25.10.2023"
   ]
  },
  {
   "cell_type": "code",
   "execution_count": 1,
   "metadata": {},
   "outputs": [],
   "source": [
    "#!pip install --upgrade scikit-learn "
   ]
  },
  {
   "cell_type": "code",
   "execution_count": 2,
   "metadata": {
    "ExecuteTime": {
     "end_time": "2018-02-05T13:09:50.940000Z",
     "start_time": "2018-02-05T14:09:50.924000+01:00"
    }
   },
   "outputs": [],
   "source": [
    "%matplotlib inline\n",
    "import pandas as pd\n",
    "from IPython.display import display\n",
    "from IPython.display import Image\n",
    "import numpy as np\n",
    "from matplotlib import pyplot as plt\n",
    "from sklearn.utils import shuffle\n",
    "from sklearn import compose\n",
    "from sklearn.preprocessing import StandardScaler, OneHotEncoder,MinMaxScaler,normalize\n",
    "from sklearn.decomposition import PCA\n",
    "from sklearn.discriminant_analysis import LinearDiscriminantAnalysis\n",
    "from sklearn.pipeline import Pipeline\n",
    "from sklearn.linear_model import LogisticRegression\n",
    "from sklearn.ensemble import RandomForestClassifier, AdaBoostRegressor\n",
    "from sklearn.neural_network import MLPRegressor, MLPClassifier\n",
    "from sklearn.model_selection import StratifiedKFold, cross_val_score, train_test_split, KFold\n",
    "from sklearn.feature_selection import SelectKBest, mutual_info_regression, f_regression, chi2, f_classif, mutual_info_classif"
   ]
  },
  {
   "cell_type": "code",
   "execution_count": 3,
   "metadata": {},
   "outputs": [],
   "source": [
    "import warnings\n",
    "warnings.filterwarnings(\"ignore\")"
   ]
  },
  {
   "cell_type": "code",
   "execution_count": 4,
   "metadata": {},
   "outputs": [
    {
     "data": {
      "text/plain": [
       "'1.3.0'"
      ]
     },
     "execution_count": 4,
     "metadata": {},
     "output_type": "execute_result"
    }
   ],
   "source": [
    "import sklearn\n",
    "sklearn.__version__"
   ]
  },
  {
   "cell_type": "markdown",
   "metadata": {},
   "source": [
    "## Access Data\n",
    "\n",
    "In this notebook **classification models** are trained and evaluated by the example application **Heart Disease Prediction**. The task is to determine the presence of a heart disease from 13 input features. The applied dataset is available from [http://archive.ics.uci.edu/ml/datasets/Heart+Disease](http://archive.ics.uci.edu/ml/datasets/Heart+Disease). After downloading and storing the corresponding .csv-file it can be accessed using *Pandas*: "
   ]
  },
  {
   "cell_type": "code",
   "execution_count": 6,
   "metadata": {
    "ExecuteTime": {
     "end_time": "2018-02-05T13:09:53.502000Z",
     "start_time": "2018-02-05T14:09:53.456000+01:00"
    }
   },
   "outputs": [
    {
     "name": "stdout",
     "output_type": "stream",
     "text": [
      "Number of rows:  303\n"
     ]
    },
    {
     "data": {
      "text/html": [
       "<div>\n",
       "<style scoped>\n",
       "    .dataframe tbody tr th:only-of-type {\n",
       "        vertical-align: middle;\n",
       "    }\n",
       "\n",
       "    .dataframe tbody tr th {\n",
       "        vertical-align: top;\n",
       "    }\n",
       "\n",
       "    .dataframe thead th {\n",
       "        text-align: right;\n",
       "    }\n",
       "</style>\n",
       "<table border=\"1\" class=\"dataframe\">\n",
       "  <thead>\n",
       "    <tr style=\"text-align: right;\">\n",
       "      <th></th>\n",
       "      <th>age</th>\n",
       "      <th>sex</th>\n",
       "      <th>cp</th>\n",
       "      <th>trestbps</th>\n",
       "      <th>chol</th>\n",
       "      <th>fbs</th>\n",
       "      <th>restecg</th>\n",
       "      <th>thalach</th>\n",
       "      <th>exang</th>\n",
       "      <th>oldpeak</th>\n",
       "      <th>slope</th>\n",
       "      <th>ca</th>\n",
       "      <th>thal</th>\n",
       "      <th>num</th>\n",
       "    </tr>\n",
       "  </thead>\n",
       "  <tbody>\n",
       "    <tr>\n",
       "      <th>0</th>\n",
       "      <td>63.0</td>\n",
       "      <td>1.0</td>\n",
       "      <td>1.0</td>\n",
       "      <td>145.0</td>\n",
       "      <td>233.0</td>\n",
       "      <td>1.0</td>\n",
       "      <td>2.0</td>\n",
       "      <td>150.0</td>\n",
       "      <td>0.0</td>\n",
       "      <td>2.3</td>\n",
       "      <td>3.0</td>\n",
       "      <td>0.0</td>\n",
       "      <td>6.0</td>\n",
       "      <td>0</td>\n",
       "    </tr>\n",
       "    <tr>\n",
       "      <th>1</th>\n",
       "      <td>67.0</td>\n",
       "      <td>1.0</td>\n",
       "      <td>4.0</td>\n",
       "      <td>160.0</td>\n",
       "      <td>286.0</td>\n",
       "      <td>0.0</td>\n",
       "      <td>2.0</td>\n",
       "      <td>108.0</td>\n",
       "      <td>1.0</td>\n",
       "      <td>1.5</td>\n",
       "      <td>2.0</td>\n",
       "      <td>3.0</td>\n",
       "      <td>3.0</td>\n",
       "      <td>2</td>\n",
       "    </tr>\n",
       "    <tr>\n",
       "      <th>2</th>\n",
       "      <td>67.0</td>\n",
       "      <td>1.0</td>\n",
       "      <td>4.0</td>\n",
       "      <td>120.0</td>\n",
       "      <td>229.0</td>\n",
       "      <td>0.0</td>\n",
       "      <td>2.0</td>\n",
       "      <td>129.0</td>\n",
       "      <td>1.0</td>\n",
       "      <td>2.6</td>\n",
       "      <td>2.0</td>\n",
       "      <td>2.0</td>\n",
       "      <td>7.0</td>\n",
       "      <td>1</td>\n",
       "    </tr>\n",
       "    <tr>\n",
       "      <th>3</th>\n",
       "      <td>37.0</td>\n",
       "      <td>1.0</td>\n",
       "      <td>3.0</td>\n",
       "      <td>130.0</td>\n",
       "      <td>250.0</td>\n",
       "      <td>0.0</td>\n",
       "      <td>0.0</td>\n",
       "      <td>187.0</td>\n",
       "      <td>0.0</td>\n",
       "      <td>3.5</td>\n",
       "      <td>3.0</td>\n",
       "      <td>0.0</td>\n",
       "      <td>3.0</td>\n",
       "      <td>0</td>\n",
       "    </tr>\n",
       "    <tr>\n",
       "      <th>4</th>\n",
       "      <td>41.0</td>\n",
       "      <td>0.0</td>\n",
       "      <td>2.0</td>\n",
       "      <td>130.0</td>\n",
       "      <td>204.0</td>\n",
       "      <td>0.0</td>\n",
       "      <td>2.0</td>\n",
       "      <td>172.0</td>\n",
       "      <td>0.0</td>\n",
       "      <td>1.4</td>\n",
       "      <td>1.0</td>\n",
       "      <td>0.0</td>\n",
       "      <td>3.0</td>\n",
       "      <td>0</td>\n",
       "    </tr>\n",
       "  </tbody>\n",
       "</table>\n",
       "</div>"
      ],
      "text/plain": [
       "    age  sex   cp  trestbps   chol  fbs  restecg  thalach  exang  oldpeak  \\\n",
       "0  63.0  1.0  1.0     145.0  233.0  1.0      2.0    150.0    0.0      2.3   \n",
       "1  67.0  1.0  4.0     160.0  286.0  0.0      2.0    108.0    1.0      1.5   \n",
       "2  67.0  1.0  4.0     120.0  229.0  0.0      2.0    129.0    1.0      2.6   \n",
       "3  37.0  1.0  3.0     130.0  250.0  0.0      0.0    187.0    0.0      3.5   \n",
       "4  41.0  0.0  2.0     130.0  204.0  0.0      2.0    172.0    0.0      1.4   \n",
       "\n",
       "   slope   ca  thal  num  \n",
       "0    3.0  0.0   6.0    0  \n",
       "1    2.0  3.0   3.0    2  \n",
       "2    2.0  2.0   7.0    1  \n",
       "3    3.0  0.0   3.0    0  \n",
       "4    1.0  0.0   3.0    0  "
      ]
     },
     "metadata": {},
     "output_type": "display_data"
    }
   ],
   "source": [
    "infile=\"./Data/HeartDiseaseCleveland.csv\"\n",
    "indf=pd.read_csv(infile)\n",
    "print(\"Number of rows: \",len(indf))\n",
    "display(indf.head())"
   ]
  },
  {
   "cell_type": "markdown",
   "metadata": {},
   "source": [
    "**Features:**\n",
    "\n",
    "1. age: age in years\n",
    "2. sex: sex (1 = male; 0 = female)\n",
    "3. cp: chest pain type \n",
    "    - Value 1: typical angina \n",
    "    - Value 2: atypical angina \n",
    "    - Value 3: non-anginal pain \n",
    "    - Value 4: asymptomatic \n",
    "4. trestbps: resting blood pressure (in mm Hg on admission to the hospital)\n",
    "6. chol: serum cholestoral in mg/dl\n",
    "7. fbs: (fasting blood sugar > 120 mg/dl) (1 = true; 0 = false)\n",
    "8. restecg: resting electrocardiographic results \n",
    "    - Value 0: normal \n",
    "    - Value 1: having ST-T wave abnormality (T wave inversions and/or ST elevation or depression of > 0.05 mV) \n",
    "    - Value 2: showing probable or definite left ventricular hypertrophy by Estes' criteria\n",
    "9. thalach: maximum heart rate achieved\n",
    "10. exang: exercise induced angina (1 = yes; 0 = no)\n",
    "11. oldpeak = ST depression induced by exercise relative to rest\n",
    "12. slope: the slope of the peak exercise ST segment\n",
    "    - Value 1: upsloping \n",
    "    - Value 2: flat \n",
    "    - Value 3: downsloping\n",
    "13. ca: number of major vessels (0-3) colored by flourosopy\n",
    "14. thal: heartrate\n",
    "    - Value 3: normal \n",
    "    - Value 6: fixed defect\n",
    "    - Value 7: reversable defect\n",
    "    \n",
    "    \n",
    "**Feature types**\n",
    "    \n",
    "- Real-valued attributes: 1,4,5,8,10,12\n",
    "- Binary attributes: 2,6,9\n",
    "- Ordered attribute: 11\n",
    "- Nominal attributes: 3,7,13\n",
    "\n",
    "**Target (Class label):** \n",
    "\n",
    "- 0: no disease\n",
    "- 1,2,3,4 degree of disease\n",
    "\n",
    "In this experiment all non-zero classlabels are mapped to 1, i.e. the binary classification just distinguishes disease and no-disease."
   ]
  },
  {
   "cell_type": "markdown",
   "metadata": {},
   "source": [
    "## Clean Data\n",
    "First, we check, if there are missing values in the dataset. In this case the corresponding rows will be deleted."
   ]
  },
  {
   "cell_type": "code",
   "execution_count": 7,
   "metadata": {
    "ExecuteTime": {
     "end_time": "2018-02-05T13:19:39.706000Z",
     "start_time": "2018-02-05T14:19:39.690000+01:00"
    }
   },
   "outputs": [
    {
     "name": "stdout",
     "output_type": "stream",
     "text": [
      "age         0\n",
      "sex         0\n",
      "cp          0\n",
      "trestbps    0\n",
      "chol        0\n",
      "fbs         0\n",
      "restecg     0\n",
      "thalach     0\n",
      "exang       0\n",
      "oldpeak     0\n",
      "slope       0\n",
      "ca          4\n",
      "thal        2\n",
      "num         0\n",
      "dtype: int64\n"
     ]
    }
   ],
   "source": [
    "print(indf.isnull().sum())"
   ]
  },
  {
   "cell_type": "code",
   "execution_count": 8,
   "metadata": {
    "ExecuteTime": {
     "end_time": "2018-02-05T13:19:39.706000Z",
     "start_time": "2018-02-05T14:19:39.690000+01:00"
    }
   },
   "outputs": [
    {
     "name": "stdout",
     "output_type": "stream",
     "text": [
      "Number of rows after deleting rows with missing values:  297\n"
     ]
    }
   ],
   "source": [
    "indf=indf.dropna()\n",
    "print(\"Number of rows after deleting rows with missing values: \",len(indf))"
   ]
  },
  {
   "cell_type": "markdown",
   "metadata": {},
   "source": [
    "Split features (first 13 columns) from class label (last column):"
   ]
  },
  {
   "cell_type": "code",
   "execution_count": 9,
   "metadata": {
    "ExecuteTime": {
     "end_time": "2018-02-05T13:19:46.441000Z",
     "start_time": "2018-02-05T14:19:46.425000+01:00"
    }
   },
   "outputs": [
    {
     "name": "stdout",
     "output_type": "stream",
     "text": [
      "[[ 63.    1.    1.  145.  233.    1.    2.  150.    0.    2.3   3.    0.\n",
      "    6. ]\n",
      " [ 67.    1.    4.  160.  286.    0.    2.  108.    1.    1.5   2.    3.\n",
      "    3. ]\n",
      " [ 67.    1.    4.  120.  229.    0.    2.  129.    1.    2.6   2.    2.\n",
      "    7. ]\n",
      " [ 37.    1.    3.  130.  250.    0.    0.  187.    0.    3.5   3.    0.\n",
      "    3. ]]\n",
      "(297, 13)\n"
     ]
    }
   ],
   "source": [
    "featureNames=indf.columns[:-1].tolist()\n",
    "X=indf[featureNames].values\n",
    "yraw=indf[\"num\"].values\n",
    "print(X[:4,:])\n",
    "print(X.shape)"
   ]
  },
  {
   "cell_type": "markdown",
   "metadata": {},
   "source": [
    "As described above, in this experiment a binary classifier shall be implemented, which differentiates the classes *disease* and *no disease*. For this all non-zero values in the class-label column are mapped to 1. "
   ]
  },
  {
   "cell_type": "code",
   "execution_count": 10,
   "metadata": {
    "ExecuteTime": {
     "end_time": "2018-02-05T13:19:57.785000Z",
     "start_time": "2018-02-05T14:19:57.785000+01:00"
    }
   },
   "outputs": [
    {
     "name": "stdout",
     "output_type": "stream",
     "text": [
      "Class labels of first 4 samples:    [0 1 1 0]\n"
     ]
    }
   ],
   "source": [
    "CLIP=True #if True all non-zero classlabels are mapped to 1 (binary classification)\n",
    "y=np.copy(yraw)\n",
    "if CLIP:\n",
    "    y=np.clip(y,a_min=0,a_max=1)\n",
    "print(\"Class labels of first 4 samples:   \",y[:4])"
   ]
  },
  {
   "cell_type": "markdown",
   "metadata": {},
   "source": [
    "## One-Hot-Encoding of nominal features\n",
    "The nominal features in columns 2,6 and 12 must be one-hot-encoded."
   ]
  },
  {
   "cell_type": "markdown",
   "metadata": {},
   "source": [
    "```{note} \n",
    "The following code-snippet just demonstrates one-hot-encoding in scikit-learn, in particular the arrangement of one-hot encoded nominal features in the transformed feature matrix. Moreover, the function `convert2OneHotFeatureNames()` can be applied to assign the column names to the transformed data.\n",
    "```"
   ]
  },
  {
   "cell_type": "code",
   "execution_count": 11,
   "metadata": {},
   "outputs": [
    {
     "name": "stdout",
     "output_type": "stream",
     "text": [
      "New shape of feature array: (297, 20)\n"
     ]
    }
   ],
   "source": [
    "catFeats=[2,6,12]\n",
    "\n",
    "oheTransformer = compose.make_column_transformer(\n",
    "    (OneHotEncoder(categories=\"auto\"), catFeats), remainder=\"passthrough\"\n",
    ")\n",
    "Xoh = oheTransformer.fit_transform(X)\n",
    "print(\"New shape of feature array:\",Xoh.shape)"
   ]
  },
  {
   "cell_type": "code",
   "execution_count": 12,
   "metadata": {
    "ExecuteTime": {
     "end_time": "2018-02-05T13:20:04.878000Z",
     "start_time": "2018-02-05T14:20:04.859000+01:00"
    }
   },
   "outputs": [],
   "source": [
    "def convert2OneHotFeatureNames(catFeats,featureNames,X):\n",
    "    '''\n",
    "    catFeats:       List, which contains the indices of the nominal features\n",
    "    featureNames:   List of original featureNames\n",
    "    X:              2-d Numpy Array containing numerical feature-values before one-hot-encoding\n",
    "    \n",
    "    function returns onehotFeatureNames, which are the names of the columns of X after one-hot-encoding\n",
    "    '''\n",
    "    nonCatFeatureNames=[f for (i,f) in enumerate(featureNames) if i not in catFeats]\n",
    "    #print nonCatFeatureNames\n",
    "    onehotFeatureNames=[]\n",
    "    for c in catFeats:\n",
    "        vals=np.unique(X[:,c])\n",
    "        fname=featureNames[c]\n",
    "        #print \"Values of nominal feature in column %d:  \"%(c),vals\n",
    "        for v in vals:\n",
    "            onehotFeatureNames.append(fname+\"=\"+str(v))\n",
    "    onehotFeatureNames.extend(nonCatFeatureNames)\n",
    "    return onehotFeatureNames\n",
    "    "
   ]
  },
  {
   "cell_type": "markdown",
   "metadata": {},
   "source": [
    "The rearrangement of columns becomes obvious if the original feature matrix and the transformed feature matrix are displayed as Pandas dataframes:"
   ]
  },
  {
   "cell_type": "code",
   "execution_count": 13,
   "metadata": {
    "ExecuteTime": {
     "end_time": "2018-02-05T13:20:09.519000Z",
     "start_time": "2018-02-05T14:20:09.472000+01:00"
    }
   },
   "outputs": [
    {
     "name": "stdout",
     "output_type": "stream",
     "text": [
      "Feature matrix before One-Hot-Encoding:\n"
     ]
    },
    {
     "data": {
      "text/html": [
       "<div>\n",
       "<style scoped>\n",
       "    .dataframe tbody tr th:only-of-type {\n",
       "        vertical-align: middle;\n",
       "    }\n",
       "\n",
       "    .dataframe tbody tr th {\n",
       "        vertical-align: top;\n",
       "    }\n",
       "\n",
       "    .dataframe thead th {\n",
       "        text-align: right;\n",
       "    }\n",
       "</style>\n",
       "<table border=\"1\" class=\"dataframe\">\n",
       "  <thead>\n",
       "    <tr style=\"text-align: right;\">\n",
       "      <th></th>\n",
       "      <th>age</th>\n",
       "      <th>sex</th>\n",
       "      <th>cp</th>\n",
       "      <th>trestbps</th>\n",
       "      <th>chol</th>\n",
       "      <th>fbs</th>\n",
       "      <th>restecg</th>\n",
       "      <th>thalach</th>\n",
       "      <th>exang</th>\n",
       "      <th>oldpeak</th>\n",
       "      <th>slope</th>\n",
       "      <th>ca</th>\n",
       "      <th>thal</th>\n",
       "    </tr>\n",
       "  </thead>\n",
       "  <tbody>\n",
       "    <tr>\n",
       "      <th>0</th>\n",
       "      <td>63.0</td>\n",
       "      <td>1.0</td>\n",
       "      <td>1.0</td>\n",
       "      <td>145.0</td>\n",
       "      <td>233.0</td>\n",
       "      <td>1.0</td>\n",
       "      <td>2.0</td>\n",
       "      <td>150.0</td>\n",
       "      <td>0.0</td>\n",
       "      <td>2.3</td>\n",
       "      <td>3.0</td>\n",
       "      <td>0.0</td>\n",
       "      <td>6.0</td>\n",
       "    </tr>\n",
       "    <tr>\n",
       "      <th>1</th>\n",
       "      <td>67.0</td>\n",
       "      <td>1.0</td>\n",
       "      <td>4.0</td>\n",
       "      <td>160.0</td>\n",
       "      <td>286.0</td>\n",
       "      <td>0.0</td>\n",
       "      <td>2.0</td>\n",
       "      <td>108.0</td>\n",
       "      <td>1.0</td>\n",
       "      <td>1.5</td>\n",
       "      <td>2.0</td>\n",
       "      <td>3.0</td>\n",
       "      <td>3.0</td>\n",
       "    </tr>\n",
       "    <tr>\n",
       "      <th>2</th>\n",
       "      <td>67.0</td>\n",
       "      <td>1.0</td>\n",
       "      <td>4.0</td>\n",
       "      <td>120.0</td>\n",
       "      <td>229.0</td>\n",
       "      <td>0.0</td>\n",
       "      <td>2.0</td>\n",
       "      <td>129.0</td>\n",
       "      <td>1.0</td>\n",
       "      <td>2.6</td>\n",
       "      <td>2.0</td>\n",
       "      <td>2.0</td>\n",
       "      <td>7.0</td>\n",
       "    </tr>\n",
       "    <tr>\n",
       "      <th>3</th>\n",
       "      <td>37.0</td>\n",
       "      <td>1.0</td>\n",
       "      <td>3.0</td>\n",
       "      <td>130.0</td>\n",
       "      <td>250.0</td>\n",
       "      <td>0.0</td>\n",
       "      <td>0.0</td>\n",
       "      <td>187.0</td>\n",
       "      <td>0.0</td>\n",
       "      <td>3.5</td>\n",
       "      <td>3.0</td>\n",
       "      <td>0.0</td>\n",
       "      <td>3.0</td>\n",
       "    </tr>\n",
       "    <tr>\n",
       "      <th>4</th>\n",
       "      <td>41.0</td>\n",
       "      <td>0.0</td>\n",
       "      <td>2.0</td>\n",
       "      <td>130.0</td>\n",
       "      <td>204.0</td>\n",
       "      <td>0.0</td>\n",
       "      <td>2.0</td>\n",
       "      <td>172.0</td>\n",
       "      <td>0.0</td>\n",
       "      <td>1.4</td>\n",
       "      <td>1.0</td>\n",
       "      <td>0.0</td>\n",
       "      <td>3.0</td>\n",
       "    </tr>\n",
       "  </tbody>\n",
       "</table>\n",
       "</div>"
      ],
      "text/plain": [
       "    age  sex   cp  trestbps   chol  fbs  restecg  thalach  exang  oldpeak  \\\n",
       "0  63.0  1.0  1.0     145.0  233.0  1.0      2.0    150.0    0.0      2.3   \n",
       "1  67.0  1.0  4.0     160.0  286.0  0.0      2.0    108.0    1.0      1.5   \n",
       "2  67.0  1.0  4.0     120.0  229.0  0.0      2.0    129.0    1.0      2.6   \n",
       "3  37.0  1.0  3.0     130.0  250.0  0.0      0.0    187.0    0.0      3.5   \n",
       "4  41.0  0.0  2.0     130.0  204.0  0.0      2.0    172.0    0.0      1.4   \n",
       "\n",
       "   slope   ca  thal  \n",
       "0    3.0  0.0   6.0  \n",
       "1    2.0  3.0   3.0  \n",
       "2    2.0  2.0   7.0  \n",
       "3    3.0  0.0   3.0  \n",
       "4    1.0  0.0   3.0  "
      ]
     },
     "metadata": {},
     "output_type": "display_data"
    }
   ],
   "source": [
    "featureDF=pd.DataFrame(data=X,columns=featureNames)\n",
    "print(\"Feature matrix before One-Hot-Encoding:\")\n",
    "display(featureDF.head())"
   ]
  },
  {
   "cell_type": "code",
   "execution_count": 14,
   "metadata": {
    "ExecuteTime": {
     "end_time": "2018-02-05T13:20:14.809000Z",
     "start_time": "2018-02-05T14:20:14.762000+01:00"
    }
   },
   "outputs": [
    {
     "name": "stdout",
     "output_type": "stream",
     "text": [
      "Feature matrix after One-Hot-Encoding:\n"
     ]
    },
    {
     "data": {
      "text/html": [
       "<div>\n",
       "<style scoped>\n",
       "    .dataframe tbody tr th:only-of-type {\n",
       "        vertical-align: middle;\n",
       "    }\n",
       "\n",
       "    .dataframe tbody tr th {\n",
       "        vertical-align: top;\n",
       "    }\n",
       "\n",
       "    .dataframe thead th {\n",
       "        text-align: right;\n",
       "    }\n",
       "</style>\n",
       "<table border=\"1\" class=\"dataframe\">\n",
       "  <thead>\n",
       "    <tr style=\"text-align: right;\">\n",
       "      <th></th>\n",
       "      <th>cp=1.0</th>\n",
       "      <th>cp=2.0</th>\n",
       "      <th>cp=3.0</th>\n",
       "      <th>cp=4.0</th>\n",
       "      <th>restecg=0.0</th>\n",
       "      <th>restecg=1.0</th>\n",
       "      <th>restecg=2.0</th>\n",
       "      <th>thal=3.0</th>\n",
       "      <th>thal=6.0</th>\n",
       "      <th>thal=7.0</th>\n",
       "      <th>age</th>\n",
       "      <th>sex</th>\n",
       "      <th>trestbps</th>\n",
       "      <th>chol</th>\n",
       "      <th>fbs</th>\n",
       "      <th>thalach</th>\n",
       "      <th>exang</th>\n",
       "      <th>oldpeak</th>\n",
       "      <th>slope</th>\n",
       "      <th>ca</th>\n",
       "    </tr>\n",
       "  </thead>\n",
       "  <tbody>\n",
       "    <tr>\n",
       "      <th>0</th>\n",
       "      <td>1.0</td>\n",
       "      <td>0.0</td>\n",
       "      <td>0.0</td>\n",
       "      <td>0.0</td>\n",
       "      <td>0.0</td>\n",
       "      <td>0.0</td>\n",
       "      <td>1.0</td>\n",
       "      <td>0.0</td>\n",
       "      <td>1.0</td>\n",
       "      <td>0.0</td>\n",
       "      <td>63.0</td>\n",
       "      <td>1.0</td>\n",
       "      <td>145.0</td>\n",
       "      <td>233.0</td>\n",
       "      <td>1.0</td>\n",
       "      <td>150.0</td>\n",
       "      <td>0.0</td>\n",
       "      <td>2.3</td>\n",
       "      <td>3.0</td>\n",
       "      <td>0.0</td>\n",
       "    </tr>\n",
       "    <tr>\n",
       "      <th>1</th>\n",
       "      <td>0.0</td>\n",
       "      <td>0.0</td>\n",
       "      <td>0.0</td>\n",
       "      <td>1.0</td>\n",
       "      <td>0.0</td>\n",
       "      <td>0.0</td>\n",
       "      <td>1.0</td>\n",
       "      <td>1.0</td>\n",
       "      <td>0.0</td>\n",
       "      <td>0.0</td>\n",
       "      <td>67.0</td>\n",
       "      <td>1.0</td>\n",
       "      <td>160.0</td>\n",
       "      <td>286.0</td>\n",
       "      <td>0.0</td>\n",
       "      <td>108.0</td>\n",
       "      <td>1.0</td>\n",
       "      <td>1.5</td>\n",
       "      <td>2.0</td>\n",
       "      <td>3.0</td>\n",
       "    </tr>\n",
       "    <tr>\n",
       "      <th>2</th>\n",
       "      <td>0.0</td>\n",
       "      <td>0.0</td>\n",
       "      <td>0.0</td>\n",
       "      <td>1.0</td>\n",
       "      <td>0.0</td>\n",
       "      <td>0.0</td>\n",
       "      <td>1.0</td>\n",
       "      <td>0.0</td>\n",
       "      <td>0.0</td>\n",
       "      <td>1.0</td>\n",
       "      <td>67.0</td>\n",
       "      <td>1.0</td>\n",
       "      <td>120.0</td>\n",
       "      <td>229.0</td>\n",
       "      <td>0.0</td>\n",
       "      <td>129.0</td>\n",
       "      <td>1.0</td>\n",
       "      <td>2.6</td>\n",
       "      <td>2.0</td>\n",
       "      <td>2.0</td>\n",
       "    </tr>\n",
       "    <tr>\n",
       "      <th>3</th>\n",
       "      <td>0.0</td>\n",
       "      <td>0.0</td>\n",
       "      <td>1.0</td>\n",
       "      <td>0.0</td>\n",
       "      <td>1.0</td>\n",
       "      <td>0.0</td>\n",
       "      <td>0.0</td>\n",
       "      <td>1.0</td>\n",
       "      <td>0.0</td>\n",
       "      <td>0.0</td>\n",
       "      <td>37.0</td>\n",
       "      <td>1.0</td>\n",
       "      <td>130.0</td>\n",
       "      <td>250.0</td>\n",
       "      <td>0.0</td>\n",
       "      <td>187.0</td>\n",
       "      <td>0.0</td>\n",
       "      <td>3.5</td>\n",
       "      <td>3.0</td>\n",
       "      <td>0.0</td>\n",
       "    </tr>\n",
       "    <tr>\n",
       "      <th>4</th>\n",
       "      <td>0.0</td>\n",
       "      <td>1.0</td>\n",
       "      <td>0.0</td>\n",
       "      <td>0.0</td>\n",
       "      <td>0.0</td>\n",
       "      <td>0.0</td>\n",
       "      <td>1.0</td>\n",
       "      <td>1.0</td>\n",
       "      <td>0.0</td>\n",
       "      <td>0.0</td>\n",
       "      <td>41.0</td>\n",
       "      <td>0.0</td>\n",
       "      <td>130.0</td>\n",
       "      <td>204.0</td>\n",
       "      <td>0.0</td>\n",
       "      <td>172.0</td>\n",
       "      <td>0.0</td>\n",
       "      <td>1.4</td>\n",
       "      <td>1.0</td>\n",
       "      <td>0.0</td>\n",
       "    </tr>\n",
       "  </tbody>\n",
       "</table>\n",
       "</div>"
      ],
      "text/plain": [
       "   cp=1.0  cp=2.0  cp=3.0  cp=4.0  restecg=0.0  restecg=1.0  restecg=2.0  \\\n",
       "0     1.0     0.0     0.0     0.0          0.0          0.0          1.0   \n",
       "1     0.0     0.0     0.0     1.0          0.0          0.0          1.0   \n",
       "2     0.0     0.0     0.0     1.0          0.0          0.0          1.0   \n",
       "3     0.0     0.0     1.0     0.0          1.0          0.0          0.0   \n",
       "4     0.0     1.0     0.0     0.0          0.0          0.0          1.0   \n",
       "\n",
       "   thal=3.0  thal=6.0  thal=7.0   age  sex  trestbps   chol  fbs  thalach  \\\n",
       "0       0.0       1.0       0.0  63.0  1.0     145.0  233.0  1.0    150.0   \n",
       "1       1.0       0.0       0.0  67.0  1.0     160.0  286.0  0.0    108.0   \n",
       "2       0.0       0.0       1.0  67.0  1.0     120.0  229.0  0.0    129.0   \n",
       "3       1.0       0.0       0.0  37.0  1.0     130.0  250.0  0.0    187.0   \n",
       "4       1.0       0.0       0.0  41.0  0.0     130.0  204.0  0.0    172.0   \n",
       "\n",
       "   exang  oldpeak  slope   ca  \n",
       "0    0.0      2.3    3.0  0.0  \n",
       "1    1.0      1.5    2.0  3.0  \n",
       "2    1.0      2.6    2.0  2.0  \n",
       "3    0.0      3.5    3.0  0.0  \n",
       "4    0.0      1.4    1.0  0.0  "
      ]
     },
     "metadata": {},
     "output_type": "display_data"
    }
   ],
   "source": [
    "onehotFeatureNames=convert2OneHotFeatureNames(catFeats,featureNames,X)\n",
    "oneHotFeatureDF=pd.DataFrame(data=Xoh,columns=onehotFeatureNames)\n",
    "#oneHotFeatureDF=pd.DataFrame(data=Xoh)\n",
    "print(\"Feature matrix after One-Hot-Encoding:\")\n",
    "display(oneHotFeatureDF.head())"
   ]
  },
  {
   "cell_type": "markdown",
   "metadata": {},
   "source": [
    "Append class label to one-hot-encoded data and write dataframe to .csv-file"
   ]
  },
  {
   "cell_type": "code",
   "execution_count": 15,
   "metadata": {
    "ExecuteTime": {
     "end_time": "2018-02-05T13:20:18.482000Z",
     "start_time": "2018-02-05T14:20:18.411000+01:00"
    },
    "scrolled": true
   },
   "outputs": [
    {
     "data": {
      "text/html": [
       "<div>\n",
       "<style scoped>\n",
       "    .dataframe tbody tr th:only-of-type {\n",
       "        vertical-align: middle;\n",
       "    }\n",
       "\n",
       "    .dataframe tbody tr th {\n",
       "        vertical-align: top;\n",
       "    }\n",
       "\n",
       "    .dataframe thead th {\n",
       "        text-align: right;\n",
       "    }\n",
       "</style>\n",
       "<table border=\"1\" class=\"dataframe\">\n",
       "  <thead>\n",
       "    <tr style=\"text-align: right;\">\n",
       "      <th></th>\n",
       "      <th>cp=1.0</th>\n",
       "      <th>cp=2.0</th>\n",
       "      <th>cp=3.0</th>\n",
       "      <th>cp=4.0</th>\n",
       "      <th>restecg=0.0</th>\n",
       "      <th>restecg=1.0</th>\n",
       "      <th>restecg=2.0</th>\n",
       "      <th>thal=3.0</th>\n",
       "      <th>thal=6.0</th>\n",
       "      <th>thal=7.0</th>\n",
       "      <th>...</th>\n",
       "      <th>sex</th>\n",
       "      <th>trestbps</th>\n",
       "      <th>chol</th>\n",
       "      <th>fbs</th>\n",
       "      <th>thalach</th>\n",
       "      <th>exang</th>\n",
       "      <th>oldpeak</th>\n",
       "      <th>slope</th>\n",
       "      <th>ca</th>\n",
       "      <th>num</th>\n",
       "    </tr>\n",
       "  </thead>\n",
       "  <tbody>\n",
       "    <tr>\n",
       "      <th>0</th>\n",
       "      <td>1.0</td>\n",
       "      <td>0.0</td>\n",
       "      <td>0.0</td>\n",
       "      <td>0.0</td>\n",
       "      <td>0.0</td>\n",
       "      <td>0.0</td>\n",
       "      <td>1.0</td>\n",
       "      <td>0.0</td>\n",
       "      <td>1.0</td>\n",
       "      <td>0.0</td>\n",
       "      <td>...</td>\n",
       "      <td>1.0</td>\n",
       "      <td>145.0</td>\n",
       "      <td>233.0</td>\n",
       "      <td>1.0</td>\n",
       "      <td>150.0</td>\n",
       "      <td>0.0</td>\n",
       "      <td>2.3</td>\n",
       "      <td>3.0</td>\n",
       "      <td>0.0</td>\n",
       "      <td>0</td>\n",
       "    </tr>\n",
       "    <tr>\n",
       "      <th>1</th>\n",
       "      <td>0.0</td>\n",
       "      <td>0.0</td>\n",
       "      <td>0.0</td>\n",
       "      <td>1.0</td>\n",
       "      <td>0.0</td>\n",
       "      <td>0.0</td>\n",
       "      <td>1.0</td>\n",
       "      <td>1.0</td>\n",
       "      <td>0.0</td>\n",
       "      <td>0.0</td>\n",
       "      <td>...</td>\n",
       "      <td>1.0</td>\n",
       "      <td>160.0</td>\n",
       "      <td>286.0</td>\n",
       "      <td>0.0</td>\n",
       "      <td>108.0</td>\n",
       "      <td>1.0</td>\n",
       "      <td>1.5</td>\n",
       "      <td>2.0</td>\n",
       "      <td>3.0</td>\n",
       "      <td>2</td>\n",
       "    </tr>\n",
       "    <tr>\n",
       "      <th>2</th>\n",
       "      <td>0.0</td>\n",
       "      <td>0.0</td>\n",
       "      <td>0.0</td>\n",
       "      <td>1.0</td>\n",
       "      <td>0.0</td>\n",
       "      <td>0.0</td>\n",
       "      <td>1.0</td>\n",
       "      <td>0.0</td>\n",
       "      <td>0.0</td>\n",
       "      <td>1.0</td>\n",
       "      <td>...</td>\n",
       "      <td>1.0</td>\n",
       "      <td>120.0</td>\n",
       "      <td>229.0</td>\n",
       "      <td>0.0</td>\n",
       "      <td>129.0</td>\n",
       "      <td>1.0</td>\n",
       "      <td>2.6</td>\n",
       "      <td>2.0</td>\n",
       "      <td>2.0</td>\n",
       "      <td>1</td>\n",
       "    </tr>\n",
       "    <tr>\n",
       "      <th>3</th>\n",
       "      <td>0.0</td>\n",
       "      <td>0.0</td>\n",
       "      <td>1.0</td>\n",
       "      <td>0.0</td>\n",
       "      <td>1.0</td>\n",
       "      <td>0.0</td>\n",
       "      <td>0.0</td>\n",
       "      <td>1.0</td>\n",
       "      <td>0.0</td>\n",
       "      <td>0.0</td>\n",
       "      <td>...</td>\n",
       "      <td>1.0</td>\n",
       "      <td>130.0</td>\n",
       "      <td>250.0</td>\n",
       "      <td>0.0</td>\n",
       "      <td>187.0</td>\n",
       "      <td>0.0</td>\n",
       "      <td>3.5</td>\n",
       "      <td>3.0</td>\n",
       "      <td>0.0</td>\n",
       "      <td>0</td>\n",
       "    </tr>\n",
       "    <tr>\n",
       "      <th>4</th>\n",
       "      <td>0.0</td>\n",
       "      <td>1.0</td>\n",
       "      <td>0.0</td>\n",
       "      <td>0.0</td>\n",
       "      <td>0.0</td>\n",
       "      <td>0.0</td>\n",
       "      <td>1.0</td>\n",
       "      <td>1.0</td>\n",
       "      <td>0.0</td>\n",
       "      <td>0.0</td>\n",
       "      <td>...</td>\n",
       "      <td>0.0</td>\n",
       "      <td>130.0</td>\n",
       "      <td>204.0</td>\n",
       "      <td>0.0</td>\n",
       "      <td>172.0</td>\n",
       "      <td>0.0</td>\n",
       "      <td>1.4</td>\n",
       "      <td>1.0</td>\n",
       "      <td>0.0</td>\n",
       "      <td>0</td>\n",
       "    </tr>\n",
       "  </tbody>\n",
       "</table>\n",
       "<p>5 rows × 21 columns</p>\n",
       "</div>"
      ],
      "text/plain": [
       "   cp=1.0  cp=2.0  cp=3.0  cp=4.0  restecg=0.0  restecg=1.0  restecg=2.0  \\\n",
       "0     1.0     0.0     0.0     0.0          0.0          0.0          1.0   \n",
       "1     0.0     0.0     0.0     1.0          0.0          0.0          1.0   \n",
       "2     0.0     0.0     0.0     1.0          0.0          0.0          1.0   \n",
       "3     0.0     0.0     1.0     0.0          1.0          0.0          0.0   \n",
       "4     0.0     1.0     0.0     0.0          0.0          0.0          1.0   \n",
       "\n",
       "   thal=3.0  thal=6.0  thal=7.0  ...  sex  trestbps   chol  fbs  thalach  \\\n",
       "0       0.0       1.0       0.0  ...  1.0     145.0  233.0  1.0    150.0   \n",
       "1       1.0       0.0       0.0  ...  1.0     160.0  286.0  0.0    108.0   \n",
       "2       0.0       0.0       1.0  ...  1.0     120.0  229.0  0.0    129.0   \n",
       "3       1.0       0.0       0.0  ...  1.0     130.0  250.0  0.0    187.0   \n",
       "4       1.0       0.0       0.0  ...  0.0     130.0  204.0  0.0    172.0   \n",
       "\n",
       "   exang  oldpeak  slope   ca  num  \n",
       "0    0.0      2.3    3.0  0.0    0  \n",
       "1    1.0      1.5    2.0  3.0    2  \n",
       "2    1.0      2.6    2.0  2.0    1  \n",
       "3    0.0      3.5    3.0  0.0    0  \n",
       "4    0.0      1.4    1.0  0.0    0  \n",
       "\n",
       "[5 rows x 21 columns]"
      ]
     },
     "metadata": {},
     "output_type": "display_data"
    }
   ],
   "source": [
    "oneHotDFall=oneHotFeatureDF\n",
    "oneHotDFall[\"num\"]=yraw\n",
    "display(oneHotDFall.head())\n",
    "oneHotDFall.to_csv(\"../Data/HeartDiseaseClevelandEncoded.csv\")"
   ]
  },
  {
   "cell_type": "markdown",
   "metadata": {},
   "source": [
    "```{note} \n",
    "Above one-hot-encoding as provided by scikit-learn has been demonstrated. We will apply this function later on, when we build scikit-learn pipelines. The drawback of the scikit-learn function is that it doesn't regard column-names. In order to map the new columns to meaningful names, we implemented our own function `convert2OneHotFeatureNames()`. A better alternative would be the pandas function `get_dummies()`. It provides one-hot-encoding and a corresponding extension of column-names. The use of `get_dummies()` is demonstrated in the code-cell below. However, this pandas-version of One-Hot-Encoding can not be applied within scikit-learn processsing chains, which will be demonstrated below:\n",
    "```"
   ]
  },
  {
   "cell_type": "markdown",
   "metadata": {},
   "source": [
    "Alternative: One-Hot-Encoding with [pandas.get_dummies()](https://pandas.pydata.org/pandas-docs/stable/generated/pandas.get_dummies.html):"
   ]
  },
  {
   "cell_type": "code",
   "execution_count": 16,
   "metadata": {},
   "outputs": [
    {
     "data": {
      "text/html": [
       "<div>\n",
       "<style scoped>\n",
       "    .dataframe tbody tr th:only-of-type {\n",
       "        vertical-align: middle;\n",
       "    }\n",
       "\n",
       "    .dataframe tbody tr th {\n",
       "        vertical-align: top;\n",
       "    }\n",
       "\n",
       "    .dataframe thead th {\n",
       "        text-align: right;\n",
       "    }\n",
       "</style>\n",
       "<table border=\"1\" class=\"dataframe\">\n",
       "  <thead>\n",
       "    <tr style=\"text-align: right;\">\n",
       "      <th></th>\n",
       "      <th>age</th>\n",
       "      <th>sex</th>\n",
       "      <th>cp</th>\n",
       "      <th>trestbps</th>\n",
       "      <th>chol</th>\n",
       "      <th>fbs</th>\n",
       "      <th>restecg</th>\n",
       "      <th>thalach</th>\n",
       "      <th>exang</th>\n",
       "      <th>oldpeak</th>\n",
       "      <th>slope</th>\n",
       "      <th>ca</th>\n",
       "      <th>thal</th>\n",
       "    </tr>\n",
       "  </thead>\n",
       "  <tbody>\n",
       "    <tr>\n",
       "      <th>0</th>\n",
       "      <td>63.0</td>\n",
       "      <td>1.0</td>\n",
       "      <td>1.0</td>\n",
       "      <td>145.0</td>\n",
       "      <td>233.0</td>\n",
       "      <td>1.0</td>\n",
       "      <td>2.0</td>\n",
       "      <td>150.0</td>\n",
       "      <td>0.0</td>\n",
       "      <td>2.3</td>\n",
       "      <td>3.0</td>\n",
       "      <td>0.0</td>\n",
       "      <td>6.0</td>\n",
       "    </tr>\n",
       "    <tr>\n",
       "      <th>1</th>\n",
       "      <td>67.0</td>\n",
       "      <td>1.0</td>\n",
       "      <td>4.0</td>\n",
       "      <td>160.0</td>\n",
       "      <td>286.0</td>\n",
       "      <td>0.0</td>\n",
       "      <td>2.0</td>\n",
       "      <td>108.0</td>\n",
       "      <td>1.0</td>\n",
       "      <td>1.5</td>\n",
       "      <td>2.0</td>\n",
       "      <td>3.0</td>\n",
       "      <td>3.0</td>\n",
       "    </tr>\n",
       "    <tr>\n",
       "      <th>2</th>\n",
       "      <td>67.0</td>\n",
       "      <td>1.0</td>\n",
       "      <td>4.0</td>\n",
       "      <td>120.0</td>\n",
       "      <td>229.0</td>\n",
       "      <td>0.0</td>\n",
       "      <td>2.0</td>\n",
       "      <td>129.0</td>\n",
       "      <td>1.0</td>\n",
       "      <td>2.6</td>\n",
       "      <td>2.0</td>\n",
       "      <td>2.0</td>\n",
       "      <td>7.0</td>\n",
       "    </tr>\n",
       "    <tr>\n",
       "      <th>3</th>\n",
       "      <td>37.0</td>\n",
       "      <td>1.0</td>\n",
       "      <td>3.0</td>\n",
       "      <td>130.0</td>\n",
       "      <td>250.0</td>\n",
       "      <td>0.0</td>\n",
       "      <td>0.0</td>\n",
       "      <td>187.0</td>\n",
       "      <td>0.0</td>\n",
       "      <td>3.5</td>\n",
       "      <td>3.0</td>\n",
       "      <td>0.0</td>\n",
       "      <td>3.0</td>\n",
       "    </tr>\n",
       "    <tr>\n",
       "      <th>4</th>\n",
       "      <td>41.0</td>\n",
       "      <td>0.0</td>\n",
       "      <td>2.0</td>\n",
       "      <td>130.0</td>\n",
       "      <td>204.0</td>\n",
       "      <td>0.0</td>\n",
       "      <td>2.0</td>\n",
       "      <td>172.0</td>\n",
       "      <td>0.0</td>\n",
       "      <td>1.4</td>\n",
       "      <td>1.0</td>\n",
       "      <td>0.0</td>\n",
       "      <td>3.0</td>\n",
       "    </tr>\n",
       "  </tbody>\n",
       "</table>\n",
       "</div>"
      ],
      "text/plain": [
       "    age  sex   cp  trestbps   chol  fbs  restecg  thalach  exang  oldpeak  \\\n",
       "0  63.0  1.0  1.0     145.0  233.0  1.0      2.0    150.0    0.0      2.3   \n",
       "1  67.0  1.0  4.0     160.0  286.0  0.0      2.0    108.0    1.0      1.5   \n",
       "2  67.0  1.0  4.0     120.0  229.0  0.0      2.0    129.0    1.0      2.6   \n",
       "3  37.0  1.0  3.0     130.0  250.0  0.0      0.0    187.0    0.0      3.5   \n",
       "4  41.0  0.0  2.0     130.0  204.0  0.0      2.0    172.0    0.0      1.4   \n",
       "\n",
       "   slope   ca  thal  \n",
       "0    3.0  0.0   6.0  \n",
       "1    2.0  3.0   3.0  \n",
       "2    2.0  2.0   7.0  \n",
       "3    3.0  0.0   3.0  \n",
       "4    1.0  0.0   3.0  "
      ]
     },
     "metadata": {},
     "output_type": "display_data"
    },
    {
     "data": {
      "text/html": [
       "<div>\n",
       "<style scoped>\n",
       "    .dataframe tbody tr th:only-of-type {\n",
       "        vertical-align: middle;\n",
       "    }\n",
       "\n",
       "    .dataframe tbody tr th {\n",
       "        vertical-align: top;\n",
       "    }\n",
       "\n",
       "    .dataframe thead th {\n",
       "        text-align: right;\n",
       "    }\n",
       "</style>\n",
       "<table border=\"1\" class=\"dataframe\">\n",
       "  <thead>\n",
       "    <tr style=\"text-align: right;\">\n",
       "      <th></th>\n",
       "      <th>age</th>\n",
       "      <th>sex</th>\n",
       "      <th>trestbps</th>\n",
       "      <th>chol</th>\n",
       "      <th>fbs</th>\n",
       "      <th>thalach</th>\n",
       "      <th>exang</th>\n",
       "      <th>oldpeak</th>\n",
       "      <th>slope</th>\n",
       "      <th>ca</th>\n",
       "      <th>cp_1.0</th>\n",
       "      <th>cp_2.0</th>\n",
       "      <th>cp_3.0</th>\n",
       "      <th>cp_4.0</th>\n",
       "      <th>restecg_0.0</th>\n",
       "      <th>restecg_1.0</th>\n",
       "      <th>restecg_2.0</th>\n",
       "      <th>thal_3.0</th>\n",
       "      <th>thal_6.0</th>\n",
       "      <th>thal_7.0</th>\n",
       "    </tr>\n",
       "  </thead>\n",
       "  <tbody>\n",
       "    <tr>\n",
       "      <th>0</th>\n",
       "      <td>63.0</td>\n",
       "      <td>1.0</td>\n",
       "      <td>145.0</td>\n",
       "      <td>233.0</td>\n",
       "      <td>1.0</td>\n",
       "      <td>150.0</td>\n",
       "      <td>0.0</td>\n",
       "      <td>2.3</td>\n",
       "      <td>3.0</td>\n",
       "      <td>0.0</td>\n",
       "      <td>True</td>\n",
       "      <td>False</td>\n",
       "      <td>False</td>\n",
       "      <td>False</td>\n",
       "      <td>False</td>\n",
       "      <td>False</td>\n",
       "      <td>True</td>\n",
       "      <td>False</td>\n",
       "      <td>True</td>\n",
       "      <td>False</td>\n",
       "    </tr>\n",
       "    <tr>\n",
       "      <th>1</th>\n",
       "      <td>67.0</td>\n",
       "      <td>1.0</td>\n",
       "      <td>160.0</td>\n",
       "      <td>286.0</td>\n",
       "      <td>0.0</td>\n",
       "      <td>108.0</td>\n",
       "      <td>1.0</td>\n",
       "      <td>1.5</td>\n",
       "      <td>2.0</td>\n",
       "      <td>3.0</td>\n",
       "      <td>False</td>\n",
       "      <td>False</td>\n",
       "      <td>False</td>\n",
       "      <td>True</td>\n",
       "      <td>False</td>\n",
       "      <td>False</td>\n",
       "      <td>True</td>\n",
       "      <td>True</td>\n",
       "      <td>False</td>\n",
       "      <td>False</td>\n",
       "    </tr>\n",
       "    <tr>\n",
       "      <th>2</th>\n",
       "      <td>67.0</td>\n",
       "      <td>1.0</td>\n",
       "      <td>120.0</td>\n",
       "      <td>229.0</td>\n",
       "      <td>0.0</td>\n",
       "      <td>129.0</td>\n",
       "      <td>1.0</td>\n",
       "      <td>2.6</td>\n",
       "      <td>2.0</td>\n",
       "      <td>2.0</td>\n",
       "      <td>False</td>\n",
       "      <td>False</td>\n",
       "      <td>False</td>\n",
       "      <td>True</td>\n",
       "      <td>False</td>\n",
       "      <td>False</td>\n",
       "      <td>True</td>\n",
       "      <td>False</td>\n",
       "      <td>False</td>\n",
       "      <td>True</td>\n",
       "    </tr>\n",
       "    <tr>\n",
       "      <th>3</th>\n",
       "      <td>37.0</td>\n",
       "      <td>1.0</td>\n",
       "      <td>130.0</td>\n",
       "      <td>250.0</td>\n",
       "      <td>0.0</td>\n",
       "      <td>187.0</td>\n",
       "      <td>0.0</td>\n",
       "      <td>3.5</td>\n",
       "      <td>3.0</td>\n",
       "      <td>0.0</td>\n",
       "      <td>False</td>\n",
       "      <td>False</td>\n",
       "      <td>True</td>\n",
       "      <td>False</td>\n",
       "      <td>True</td>\n",
       "      <td>False</td>\n",
       "      <td>False</td>\n",
       "      <td>True</td>\n",
       "      <td>False</td>\n",
       "      <td>False</td>\n",
       "    </tr>\n",
       "    <tr>\n",
       "      <th>4</th>\n",
       "      <td>41.0</td>\n",
       "      <td>0.0</td>\n",
       "      <td>130.0</td>\n",
       "      <td>204.0</td>\n",
       "      <td>0.0</td>\n",
       "      <td>172.0</td>\n",
       "      <td>0.0</td>\n",
       "      <td>1.4</td>\n",
       "      <td>1.0</td>\n",
       "      <td>0.0</td>\n",
       "      <td>False</td>\n",
       "      <td>True</td>\n",
       "      <td>False</td>\n",
       "      <td>False</td>\n",
       "      <td>False</td>\n",
       "      <td>False</td>\n",
       "      <td>True</td>\n",
       "      <td>True</td>\n",
       "      <td>False</td>\n",
       "      <td>False</td>\n",
       "    </tr>\n",
       "    <tr>\n",
       "      <th>...</th>\n",
       "      <td>...</td>\n",
       "      <td>...</td>\n",
       "      <td>...</td>\n",
       "      <td>...</td>\n",
       "      <td>...</td>\n",
       "      <td>...</td>\n",
       "      <td>...</td>\n",
       "      <td>...</td>\n",
       "      <td>...</td>\n",
       "      <td>...</td>\n",
       "      <td>...</td>\n",
       "      <td>...</td>\n",
       "      <td>...</td>\n",
       "      <td>...</td>\n",
       "      <td>...</td>\n",
       "      <td>...</td>\n",
       "      <td>...</td>\n",
       "      <td>...</td>\n",
       "      <td>...</td>\n",
       "      <td>...</td>\n",
       "    </tr>\n",
       "    <tr>\n",
       "      <th>297</th>\n",
       "      <td>57.0</td>\n",
       "      <td>0.0</td>\n",
       "      <td>140.0</td>\n",
       "      <td>241.0</td>\n",
       "      <td>0.0</td>\n",
       "      <td>123.0</td>\n",
       "      <td>1.0</td>\n",
       "      <td>0.2</td>\n",
       "      <td>2.0</td>\n",
       "      <td>0.0</td>\n",
       "      <td>False</td>\n",
       "      <td>False</td>\n",
       "      <td>False</td>\n",
       "      <td>True</td>\n",
       "      <td>True</td>\n",
       "      <td>False</td>\n",
       "      <td>False</td>\n",
       "      <td>False</td>\n",
       "      <td>False</td>\n",
       "      <td>True</td>\n",
       "    </tr>\n",
       "    <tr>\n",
       "      <th>298</th>\n",
       "      <td>45.0</td>\n",
       "      <td>1.0</td>\n",
       "      <td>110.0</td>\n",
       "      <td>264.0</td>\n",
       "      <td>0.0</td>\n",
       "      <td>132.0</td>\n",
       "      <td>0.0</td>\n",
       "      <td>1.2</td>\n",
       "      <td>2.0</td>\n",
       "      <td>0.0</td>\n",
       "      <td>True</td>\n",
       "      <td>False</td>\n",
       "      <td>False</td>\n",
       "      <td>False</td>\n",
       "      <td>True</td>\n",
       "      <td>False</td>\n",
       "      <td>False</td>\n",
       "      <td>False</td>\n",
       "      <td>False</td>\n",
       "      <td>True</td>\n",
       "    </tr>\n",
       "    <tr>\n",
       "      <th>299</th>\n",
       "      <td>68.0</td>\n",
       "      <td>1.0</td>\n",
       "      <td>144.0</td>\n",
       "      <td>193.0</td>\n",
       "      <td>1.0</td>\n",
       "      <td>141.0</td>\n",
       "      <td>0.0</td>\n",
       "      <td>3.4</td>\n",
       "      <td>2.0</td>\n",
       "      <td>2.0</td>\n",
       "      <td>False</td>\n",
       "      <td>False</td>\n",
       "      <td>False</td>\n",
       "      <td>True</td>\n",
       "      <td>True</td>\n",
       "      <td>False</td>\n",
       "      <td>False</td>\n",
       "      <td>False</td>\n",
       "      <td>False</td>\n",
       "      <td>True</td>\n",
       "    </tr>\n",
       "    <tr>\n",
       "      <th>300</th>\n",
       "      <td>57.0</td>\n",
       "      <td>1.0</td>\n",
       "      <td>130.0</td>\n",
       "      <td>131.0</td>\n",
       "      <td>0.0</td>\n",
       "      <td>115.0</td>\n",
       "      <td>1.0</td>\n",
       "      <td>1.2</td>\n",
       "      <td>2.0</td>\n",
       "      <td>1.0</td>\n",
       "      <td>False</td>\n",
       "      <td>False</td>\n",
       "      <td>False</td>\n",
       "      <td>True</td>\n",
       "      <td>True</td>\n",
       "      <td>False</td>\n",
       "      <td>False</td>\n",
       "      <td>False</td>\n",
       "      <td>False</td>\n",
       "      <td>True</td>\n",
       "    </tr>\n",
       "    <tr>\n",
       "      <th>301</th>\n",
       "      <td>57.0</td>\n",
       "      <td>0.0</td>\n",
       "      <td>130.0</td>\n",
       "      <td>236.0</td>\n",
       "      <td>0.0</td>\n",
       "      <td>174.0</td>\n",
       "      <td>0.0</td>\n",
       "      <td>0.0</td>\n",
       "      <td>2.0</td>\n",
       "      <td>1.0</td>\n",
       "      <td>False</td>\n",
       "      <td>True</td>\n",
       "      <td>False</td>\n",
       "      <td>False</td>\n",
       "      <td>False</td>\n",
       "      <td>False</td>\n",
       "      <td>True</td>\n",
       "      <td>True</td>\n",
       "      <td>False</td>\n",
       "      <td>False</td>\n",
       "    </tr>\n",
       "  </tbody>\n",
       "</table>\n",
       "<p>297 rows × 20 columns</p>\n",
       "</div>"
      ],
      "text/plain": [
       "      age  sex  trestbps   chol  fbs  thalach  exang  oldpeak  slope   ca  \\\n",
       "0    63.0  1.0     145.0  233.0  1.0    150.0    0.0      2.3    3.0  0.0   \n",
       "1    67.0  1.0     160.0  286.0  0.0    108.0    1.0      1.5    2.0  3.0   \n",
       "2    67.0  1.0     120.0  229.0  0.0    129.0    1.0      2.6    2.0  2.0   \n",
       "3    37.0  1.0     130.0  250.0  0.0    187.0    0.0      3.5    3.0  0.0   \n",
       "4    41.0  0.0     130.0  204.0  0.0    172.0    0.0      1.4    1.0  0.0   \n",
       "..    ...  ...       ...    ...  ...      ...    ...      ...    ...  ...   \n",
       "297  57.0  0.0     140.0  241.0  0.0    123.0    1.0      0.2    2.0  0.0   \n",
       "298  45.0  1.0     110.0  264.0  0.0    132.0    0.0      1.2    2.0  0.0   \n",
       "299  68.0  1.0     144.0  193.0  1.0    141.0    0.0      3.4    2.0  2.0   \n",
       "300  57.0  1.0     130.0  131.0  0.0    115.0    1.0      1.2    2.0  1.0   \n",
       "301  57.0  0.0     130.0  236.0  0.0    174.0    0.0      0.0    2.0  1.0   \n",
       "\n",
       "     cp_1.0  cp_2.0  cp_3.0  cp_4.0  restecg_0.0  restecg_1.0  restecg_2.0  \\\n",
       "0      True   False   False   False        False        False         True   \n",
       "1     False   False   False    True        False        False         True   \n",
       "2     False   False   False    True        False        False         True   \n",
       "3     False   False    True   False         True        False        False   \n",
       "4     False    True   False   False        False        False         True   \n",
       "..      ...     ...     ...     ...          ...          ...          ...   \n",
       "297   False   False   False    True         True        False        False   \n",
       "298    True   False   False   False         True        False        False   \n",
       "299   False   False   False    True         True        False        False   \n",
       "300   False   False   False    True         True        False        False   \n",
       "301   False    True   False   False        False        False         True   \n",
       "\n",
       "     thal_3.0  thal_6.0  thal_7.0  \n",
       "0       False      True     False  \n",
       "1        True     False     False  \n",
       "2       False     False      True  \n",
       "3        True     False     False  \n",
       "4        True     False     False  \n",
       "..        ...       ...       ...  \n",
       "297     False     False      True  \n",
       "298     False     False      True  \n",
       "299     False     False      True  \n",
       "300     False     False      True  \n",
       "301      True     False     False  \n",
       "\n",
       "[297 rows x 20 columns]"
      ]
     },
     "metadata": {},
     "output_type": "display_data"
    }
   ],
   "source": [
    "indfF=indf.drop(columns=\"num\")\n",
    "display(indfF.head())\n",
    "indfFOH=pd.get_dummies(indfF,columns=[\"cp\",\"restecg\",\"thal\"])\n",
    "display(indfFOH)"
   ]
  },
  {
   "cell_type": "markdown",
   "metadata": {},
   "source": [
    "## Training and Test\n",
    "\n",
    "Simple split in training and test data:"
   ]
  },
  {
   "cell_type": "code",
   "execution_count": 17,
   "metadata": {
    "ExecuteTime": {
     "end_time": "2018-02-05T13:27:20.395000Z",
     "start_time": "2018-02-05T14:27:20.379000+01:00"
    }
   },
   "outputs": [],
   "source": [
    "X_train, X_test, y_train, y_test = train_test_split(X, y, test_size=0.3, random_state=0)"
   ]
  },
  {
   "cell_type": "markdown",
   "metadata": {},
   "source": [
    "### Defining the Pipeline\n",
    "The entire Data Mining process usually comprises a sequence of modules, e.g: \n",
    "\n",
    "```data access -> cleaning -> feature selection -> transformations -> modelling -> visualisation -> evaluatio```\n",
    "\n",
    "\n",
    "In scikit-learn such sequences of modules can comfortably be encapsulated within a single [Pipeline](http://scikit-learn.org/stable/modules/generated/sklearn.pipeline.Pipeline.html#sklearn.pipeline.Pipeline). As shown in the code-snippet below, a Pipeline-object can be configured as a sequence of other scikit-learn objects. The restriction is that all but the last module in a pipeline must be of **Transformer**-type. All *Transformers* have a `.fit()`-method for training and a `.transform()`-method to transform data. The last module in the sequence is an **Estimator**-type. All *Estimators* have a `.fit()`-method for training and a `.predict()` method to estimate an output for the given input data. The main benefits of the`**Pipeline**-class are:\n",
    "\n",
    "* For training the `.fit()`-method must be envoked only once to fit a whole sequence of modules in the pipeline.\n",
    "* After training the `.predict()`-method must also be envoked only once per pipeline.\n",
    "* Parameter optimisation, e.g. by Grid-Search can be performed over all parameters in the pipeline. \n"
   ]
  },
  {
   "cell_type": "code",
   "execution_count": 18,
   "metadata": {
    "ExecuteTime": {
     "end_time": "2018-02-05T13:27:33.504000Z",
     "start_time": "2018-02-05T14:27:33.488000+01:00"
    }
   },
   "outputs": [],
   "source": [
    "catFeats=[2,6,12]\n",
    "pipe = Pipeline([('oneHot', compose.make_column_transformer((OneHotEncoder(categories=\"auto\"), catFeats), \n",
    "                                                            remainder=\"passthrough\")),\n",
    "                 ('stdSc', StandardScaler(with_mean=True)),\n",
    "                 #('pca', PCA(n_components=2)),\n",
    "                 ('clf', LogisticRegression(C=0.1,random_state=1)) \n",
    "                ])"
   ]
  },
  {
   "cell_type": "markdown",
   "metadata": {},
   "source": [
    "### Training"
   ]
  },
  {
   "cell_type": "code",
   "execution_count": 19,
   "metadata": {
    "ExecuteTime": {
     "end_time": "2018-02-05T13:28:06.049000Z",
     "start_time": "2018-02-05T14:28:05.908000+01:00"
    }
   },
   "outputs": [
    {
     "data": {
      "text/html": [
       "<style>#sk-container-id-1 {color: black;}#sk-container-id-1 pre{padding: 0;}#sk-container-id-1 div.sk-toggleable {background-color: white;}#sk-container-id-1 label.sk-toggleable__label {cursor: pointer;display: block;width: 100%;margin-bottom: 0;padding: 0.3em;box-sizing: border-box;text-align: center;}#sk-container-id-1 label.sk-toggleable__label-arrow:before {content: \"▸\";float: left;margin-right: 0.25em;color: #696969;}#sk-container-id-1 label.sk-toggleable__label-arrow:hover:before {color: black;}#sk-container-id-1 div.sk-estimator:hover label.sk-toggleable__label-arrow:before {color: black;}#sk-container-id-1 div.sk-toggleable__content {max-height: 0;max-width: 0;overflow: hidden;text-align: left;background-color: #f0f8ff;}#sk-container-id-1 div.sk-toggleable__content pre {margin: 0.2em;color: black;border-radius: 0.25em;background-color: #f0f8ff;}#sk-container-id-1 input.sk-toggleable__control:checked~div.sk-toggleable__content {max-height: 200px;max-width: 100%;overflow: auto;}#sk-container-id-1 input.sk-toggleable__control:checked~label.sk-toggleable__label-arrow:before {content: \"▾\";}#sk-container-id-1 div.sk-estimator input.sk-toggleable__control:checked~label.sk-toggleable__label {background-color: #d4ebff;}#sk-container-id-1 div.sk-label input.sk-toggleable__control:checked~label.sk-toggleable__label {background-color: #d4ebff;}#sk-container-id-1 input.sk-hidden--visually {border: 0;clip: rect(1px 1px 1px 1px);clip: rect(1px, 1px, 1px, 1px);height: 1px;margin: -1px;overflow: hidden;padding: 0;position: absolute;width: 1px;}#sk-container-id-1 div.sk-estimator {font-family: monospace;background-color: #f0f8ff;border: 1px dotted black;border-radius: 0.25em;box-sizing: border-box;margin-bottom: 0.5em;}#sk-container-id-1 div.sk-estimator:hover {background-color: #d4ebff;}#sk-container-id-1 div.sk-parallel-item::after {content: \"\";width: 100%;border-bottom: 1px solid gray;flex-grow: 1;}#sk-container-id-1 div.sk-label:hover label.sk-toggleable__label {background-color: #d4ebff;}#sk-container-id-1 div.sk-serial::before {content: \"\";position: absolute;border-left: 1px solid gray;box-sizing: border-box;top: 0;bottom: 0;left: 50%;z-index: 0;}#sk-container-id-1 div.sk-serial {display: flex;flex-direction: column;align-items: center;background-color: white;padding-right: 0.2em;padding-left: 0.2em;position: relative;}#sk-container-id-1 div.sk-item {position: relative;z-index: 1;}#sk-container-id-1 div.sk-parallel {display: flex;align-items: stretch;justify-content: center;background-color: white;position: relative;}#sk-container-id-1 div.sk-item::before, #sk-container-id-1 div.sk-parallel-item::before {content: \"\";position: absolute;border-left: 1px solid gray;box-sizing: border-box;top: 0;bottom: 0;left: 50%;z-index: -1;}#sk-container-id-1 div.sk-parallel-item {display: flex;flex-direction: column;z-index: 1;position: relative;background-color: white;}#sk-container-id-1 div.sk-parallel-item:first-child::after {align-self: flex-end;width: 50%;}#sk-container-id-1 div.sk-parallel-item:last-child::after {align-self: flex-start;width: 50%;}#sk-container-id-1 div.sk-parallel-item:only-child::after {width: 0;}#sk-container-id-1 div.sk-dashed-wrapped {border: 1px dashed gray;margin: 0 0.4em 0.5em 0.4em;box-sizing: border-box;padding-bottom: 0.4em;background-color: white;}#sk-container-id-1 div.sk-label label {font-family: monospace;font-weight: bold;display: inline-block;line-height: 1.2em;}#sk-container-id-1 div.sk-label-container {text-align: center;}#sk-container-id-1 div.sk-container {/* jupyter's `normalize.less` sets `[hidden] { display: none; }` but bootstrap.min.css set `[hidden] { display: none !important; }` so we also need the `!important` here to be able to override the default hidden behavior on the sphinx rendered scikit-learn.org. See: https://github.com/scikit-learn/scikit-learn/issues/21755 */display: inline-block !important;position: relative;}#sk-container-id-1 div.sk-text-repr-fallback {display: none;}</style><div id=\"sk-container-id-1\" class=\"sk-top-container\"><div class=\"sk-text-repr-fallback\"><pre>Pipeline(steps=[(&#x27;oneHot&#x27;,\n",
       "                 ColumnTransformer(remainder=&#x27;passthrough&#x27;,\n",
       "                                   transformers=[(&#x27;onehotencoder&#x27;,\n",
       "                                                  OneHotEncoder(),\n",
       "                                                  [2, 6, 12])])),\n",
       "                (&#x27;stdSc&#x27;, StandardScaler()),\n",
       "                (&#x27;clf&#x27;, LogisticRegression(C=0.1, random_state=1))])</pre><b>In a Jupyter environment, please rerun this cell to show the HTML representation or trust the notebook. <br />On GitHub, the HTML representation is unable to render, please try loading this page with nbviewer.org.</b></div><div class=\"sk-container\" hidden><div class=\"sk-item sk-dashed-wrapped\"><div class=\"sk-label-container\"><div class=\"sk-label sk-toggleable\"><input class=\"sk-toggleable__control sk-hidden--visually\" id=\"sk-estimator-id-1\" type=\"checkbox\" ><label for=\"sk-estimator-id-1\" class=\"sk-toggleable__label sk-toggleable__label-arrow\">Pipeline</label><div class=\"sk-toggleable__content\"><pre>Pipeline(steps=[(&#x27;oneHot&#x27;,\n",
       "                 ColumnTransformer(remainder=&#x27;passthrough&#x27;,\n",
       "                                   transformers=[(&#x27;onehotencoder&#x27;,\n",
       "                                                  OneHotEncoder(),\n",
       "                                                  [2, 6, 12])])),\n",
       "                (&#x27;stdSc&#x27;, StandardScaler()),\n",
       "                (&#x27;clf&#x27;, LogisticRegression(C=0.1, random_state=1))])</pre></div></div></div><div class=\"sk-serial\"><div class=\"sk-item sk-dashed-wrapped\"><div class=\"sk-label-container\"><div class=\"sk-label sk-toggleable\"><input class=\"sk-toggleable__control sk-hidden--visually\" id=\"sk-estimator-id-2\" type=\"checkbox\" ><label for=\"sk-estimator-id-2\" class=\"sk-toggleable__label sk-toggleable__label-arrow\">oneHot: ColumnTransformer</label><div class=\"sk-toggleable__content\"><pre>ColumnTransformer(remainder=&#x27;passthrough&#x27;,\n",
       "                  transformers=[(&#x27;onehotencoder&#x27;, OneHotEncoder(), [2, 6, 12])])</pre></div></div></div><div class=\"sk-parallel\"><div class=\"sk-parallel-item\"><div class=\"sk-item\"><div class=\"sk-label-container\"><div class=\"sk-label sk-toggleable\"><input class=\"sk-toggleable__control sk-hidden--visually\" id=\"sk-estimator-id-3\" type=\"checkbox\" ><label for=\"sk-estimator-id-3\" class=\"sk-toggleable__label sk-toggleable__label-arrow\">onehotencoder</label><div class=\"sk-toggleable__content\"><pre>[2, 6, 12]</pre></div></div></div><div class=\"sk-serial\"><div class=\"sk-item\"><div class=\"sk-estimator sk-toggleable\"><input class=\"sk-toggleable__control sk-hidden--visually\" id=\"sk-estimator-id-4\" type=\"checkbox\" ><label for=\"sk-estimator-id-4\" class=\"sk-toggleable__label sk-toggleable__label-arrow\">OneHotEncoder</label><div class=\"sk-toggleable__content\"><pre>OneHotEncoder()</pre></div></div></div></div></div></div><div class=\"sk-parallel-item\"><div class=\"sk-item\"><div class=\"sk-label-container\"><div class=\"sk-label sk-toggleable\"><input class=\"sk-toggleable__control sk-hidden--visually\" id=\"sk-estimator-id-5\" type=\"checkbox\" ><label for=\"sk-estimator-id-5\" class=\"sk-toggleable__label sk-toggleable__label-arrow\">remainder</label><div class=\"sk-toggleable__content\"><pre>[0, 1, 3, 4, 5, 7, 8, 9, 10, 11]</pre></div></div></div><div class=\"sk-serial\"><div class=\"sk-item\"><div class=\"sk-estimator sk-toggleable\"><input class=\"sk-toggleable__control sk-hidden--visually\" id=\"sk-estimator-id-6\" type=\"checkbox\" ><label for=\"sk-estimator-id-6\" class=\"sk-toggleable__label sk-toggleable__label-arrow\">passthrough</label><div class=\"sk-toggleable__content\"><pre>passthrough</pre></div></div></div></div></div></div></div></div><div class=\"sk-item\"><div class=\"sk-estimator sk-toggleable\"><input class=\"sk-toggleable__control sk-hidden--visually\" id=\"sk-estimator-id-7\" type=\"checkbox\" ><label for=\"sk-estimator-id-7\" class=\"sk-toggleable__label sk-toggleable__label-arrow\">StandardScaler</label><div class=\"sk-toggleable__content\"><pre>StandardScaler()</pre></div></div></div><div class=\"sk-item\"><div class=\"sk-estimator sk-toggleable\"><input class=\"sk-toggleable__control sk-hidden--visually\" id=\"sk-estimator-id-8\" type=\"checkbox\" ><label for=\"sk-estimator-id-8\" class=\"sk-toggleable__label sk-toggleable__label-arrow\">LogisticRegression</label><div class=\"sk-toggleable__content\"><pre>LogisticRegression(C=0.1, random_state=1)</pre></div></div></div></div></div></div></div>"
      ],
      "text/plain": [
       "Pipeline(steps=[('oneHot',\n",
       "                 ColumnTransformer(remainder='passthrough',\n",
       "                                   transformers=[('onehotencoder',\n",
       "                                                  OneHotEncoder(),\n",
       "                                                  [2, 6, 12])])),\n",
       "                ('stdSc', StandardScaler()),\n",
       "                ('clf', LogisticRegression(C=0.1, random_state=1))])"
      ]
     },
     "execution_count": 19,
     "metadata": {},
     "output_type": "execute_result"
    }
   ],
   "source": [
    "pipe.fit(X_train,y_train)"
   ]
  },
  {
   "cell_type": "markdown",
   "metadata": {},
   "source": [
    "### Evaluation metrics for classifiers\n",
    "#### The simple way: Accuracy\n",
    "The accuracy of the classifier in the context of all modules in the pipeline can be calculated by envoking the `.score(X,y)`-function. The function passes data $X$ through all modules of the pipeline. By comparing the outputs of the last module (classifer) to the true labels $y$ the accuracy is calculated. The same result can be obtained by first envoking `y_p=pipe.predict(X,y)` followed by `accuracy_score(y_p,y)` (see below).  "
   ]
  },
  {
   "cell_type": "code",
   "execution_count": 20,
   "metadata": {
    "ExecuteTime": {
     "end_time": "2018-02-05T13:28:44.611000Z",
     "start_time": "2018-02-05T14:28:44.595000+01:00"
    }
   },
   "outputs": [
    {
     "name": "stdout",
     "output_type": "stream",
     "text": [
      "Training Accuracy: 0.855\n",
      "Test Accuracy: 0.800\n"
     ]
    }
   ],
   "source": [
    "print('Training Accuracy: %.3f' % pipe.score(X_train, y_train)) \n",
    "print('Test Accuracy: %.3f' % pipe.score(X_test, y_test)) "
   ]
  },
  {
   "cell_type": "markdown",
   "metadata": {},
   "source": [
    "#### Confusion Matrix, Precision, Recall, F1-Score\n",
    "For a more thorough analysis of a classifier, determination of accuracy alone is not sufficient. The metrics defined below provide more subtle information on correct and erroneous events. All of the defined evaluation metrics can be obtained from the confusion matrix. For a binary classifier, the confusion matrix is depicted below. For a *K*-class classifier, the confusion matrix has size $K \\times K$. The rows correspond to the true labels, the columns to the predicted labels."
   ]
  },
  {
   "cell_type": "markdown",
   "metadata": {
    "ExecuteTime": {
     "end_time": "2018-02-05T13:28:51.411000Z",
     "start_time": "2018-02-05T14:28:51.395000+01:00"
    }
   },
   "source": [
    "<img src=\"https://maucher.home.hdm-stuttgart.de/Pics/confusionMat.png\" style=\"width:300px\" align=\"center\">"
   ]
  },
  {
   "cell_type": "markdown",
   "metadata": {},
   "source": [
    "**Accuracy:** The rate of overall correct classifications: \n",
    "\n",
    "$$\n",
    "ACC=\\frac{TP+TN}{FP+FN+TP+TN}\n",
    "$$\n",
    "\n",
    "**Error Rate:** The rate of overall erroneous classifications: \n",
    "\n",
    "$$\n",
    "ERR=\\frac{FP+FN}{FP+FN+TP+TN}\n",
    "$$\n",
    "\n",
    "**False Positive Rate:** \n",
    "\n",
    "$$\n",
    "FPR=\\frac{FP}{FP+TN}\n",
    "$$\n",
    "\n",
    "**True Positive Rate:** \n",
    "\n",
    "$$\n",
    "TPR=\\frac{TP}{FN+TP}\n",
    "$$\n",
    "\n",
    "**Precision:** How much of the samples, which have been classified as *positive* are actual *positive* \n",
    "\n",
    "$$\n",
    "PRE=\\frac{TP}{FP+TP}\n",
    "$$ \n",
    "\n",
    "**Recall:**(=TPR): How much of the true *positive* samples has been classified as *positive* \n",
    "\n",
    "$$\n",
    "REC=\\frac{TP}{FN+TP}\n",
    "$$\n",
    "\n",
    "**F1-Score:** Harmonic mean of Precision and Recall \n",
    "\n",
    "$$\n",
    "F1=2\\frac{PRE \\cdot REC }{PRE + REC}\n",
    "$$"
   ]
  },
  {
   "cell_type": "markdown",
   "metadata": {},
   "source": [
    "In order to calculate these performance-metrics on the test-data, we first determine the model's prediction on the test-data. Then the corresponding scikit-learn metric-functions are applied as demonstrated below."
   ]
  },
  {
   "cell_type": "code",
   "execution_count": 21,
   "metadata": {
    "ExecuteTime": {
     "end_time": "2018-02-05T13:29:01.612000Z",
     "start_time": "2018-02-05T14:29:01.612000+01:00"
    }
   },
   "outputs": [],
   "source": [
    "y_pred=pipe.predict(X_test)"
   ]
  },
  {
   "cell_type": "code",
   "execution_count": 22,
   "metadata": {
    "ExecuteTime": {
     "end_time": "2018-02-05T13:28:56.428000Z",
     "start_time": "2018-02-05T14:28:56.428000+01:00"
    }
   },
   "outputs": [],
   "source": [
    "from sklearn.metrics import confusion_matrix, precision_score, recall_score, f1_score, accuracy_score, classification_report"
   ]
  },
  {
   "cell_type": "markdown",
   "metadata": {},
   "source": [
    "The following function just plots the confusion-matrix in a nicer way."
   ]
  },
  {
   "cell_type": "code",
   "execution_count": 23,
   "metadata": {
    "ExecuteTime": {
     "end_time": "2018-02-05T13:29:13.223000Z",
     "start_time": "2018-02-05T14:29:13.223000+01:00"
    }
   },
   "outputs": [],
   "source": [
    "def plot_confusion_matrix(confmat):\n",
    "    fig, ax = plt.subplots(figsize=(2.5, 2.5))\n",
    "    ax.matshow(confmat, cmap=plt.cm.Blues, alpha=0.3)\n",
    "    for i in range(confmat.shape[0]):\n",
    "        for j in range(confmat.shape[1]):\n",
    "            ax.text(x=j, y=i,\n",
    "            s=confmat[i, j],va='center', ha='center')\n",
    "    plt.xlabel('predicted label')\n",
    "    plt.ylabel('true label')"
   ]
  },
  {
   "cell_type": "code",
   "execution_count": 24,
   "metadata": {
    "ExecuteTime": {
     "end_time": "2018-02-05T13:29:16.473000Z",
     "start_time": "2018-02-05T14:29:16.333000+01:00"
    }
   },
   "outputs": [
    {
     "name": "stdout",
     "output_type": "stream",
     "text": [
      "[[43  5]\n",
      " [13 29]]\n"
     ]
    },
    {
     "data": {
      "image/png": "[encoded data removed]",
      "text/plain": [
       "<Figure size 250x250 with 1 Axes>"
      ]
     },
     "metadata": {},
     "output_type": "display_data"
    }
   ],
   "source": [
    "confusion_mat = confusion_matrix(y_test, y_pred)\n",
    "print(confusion_mat)\n",
    "plot_confusion_matrix(confusion_mat)"
   ]
  },
  {
   "cell_type": "code",
   "execution_count": 25,
   "metadata": {
    "ExecuteTime": {
     "end_time": "2018-02-05T13:29:22.900000Z",
     "start_time": "2018-02-05T14:29:22.900000+01:00"
    },
    "scrolled": false
   },
   "outputs": [
    {
     "name": "stdout",
     "output_type": "stream",
     "text": [
      "Accuracy:        0.8\n",
      "Precision:       [0.76785714 0.85294118]\n",
      "Recall:          [0.89583333 0.69047619]\n",
      "F1-Score:        [0.82692308 0.76315789]\n"
     ]
    }
   ],
   "source": [
    "print (\"Accuracy:       \",accuracy_score(y_test, y_pred))\n",
    "print (\"Precision:      \",precision_score(y_test, y_pred,average=None))\n",
    "print (\"Recall:         \",recall_score(y_test, y_pred,average=None))\n",
    "print (\"F1-Score:       \",f1_score(y_test, y_pred,average=None))"
   ]
  },
  {
   "cell_type": "markdown",
   "metadata": {},
   "source": [
    "These metrics can also be calculated in one step, by applying the `classification_report()`-method:"
   ]
  },
  {
   "cell_type": "code",
   "execution_count": 26,
   "metadata": {},
   "outputs": [
    {
     "name": "stdout",
     "output_type": "stream",
     "text": [
      "              precision    recall  f1-score   support\n",
      "\n",
      "           0       0.77      0.90      0.83        48\n",
      "           1       0.85      0.69      0.76        42\n",
      "\n",
      "    accuracy                           0.80        90\n",
      "   macro avg       0.81      0.79      0.80        90\n",
      "weighted avg       0.81      0.80      0.80        90\n",
      "\n"
     ]
    }
   ],
   "source": [
    "print(classification_report(y_test,y_pred))"
   ]
  },
  {
   "cell_type": "markdown",
   "metadata": {},
   "source": [
    "By comparing the Recall of both classes one can conclude, that this model is better in finding the true *no-disease* cases, than in finding the true *disease*-cases. It would be better in the other way around."
   ]
  },
  {
   "cell_type": "code",
   "execution_count": 27,
   "metadata": {},
   "outputs": [
    {
     "name": "stdout",
     "output_type": "stream",
     "text": [
      "Macro averages of precision and recall: \t 0.81 0.7949999999999999\n",
      "Weighted averages of precision and recall: \t 0.8073333333333333 0.802\n"
     ]
    }
   ],
   "source": [
    "print(\"Macro averages of precision and recall: \\t\",(0.77+0.85)/2, (0.9+0.69)/2)\n",
    "print(\"Weighted averages of precision and recall: \\t\",(48*0.77+42*0.85)/90, (48*0.9+42*0.69)/90)"
   ]
  },
  {
   "cell_type": "markdown",
   "metadata": {},
   "source": [
    "#### Receiver Operating Curves\n",
    "Receiver Operating Curves (ROC) visualize the performance of a binary classifier as its discrimination threshold is varied.\n",
    "ROC curves typically feature true positive rate on the Y axis, and false positive rate on the X axis. This means that the top left corner of the plot is the *ideal* point - a false positive rate of zero, and a true positive rate of one. This is not very realistic. A quantitative performance-measure based on ROC is the Area Under Curve (AUC). The larger the AUC the better the classifier. The maximum value of AUC is 1."
   ]
  },
  {
   "cell_type": "code",
   "execution_count": 28,
   "metadata": {},
   "outputs": [
    {
     "data": {
      "image/png": "[encoded data removed]",
      "text/plain": [
       "<Figure size 1000x800 with 1 Axes>"
      ]
     },
     "metadata": {},
     "output_type": "display_data"
    }
   ],
   "source": [
    "from sklearn.metrics import roc_curve, auc\n",
    "from scipy import interp\n",
    "pipe = Pipeline([('scl', StandardScaler()),\n",
    "                 ('clf', LogisticRegression(penalty='l2',random_state=0,C=100.0))])\n",
    "\n",
    "splits=5\n",
    "cv = StratifiedKFold(n_splits=splits)\n",
    "fig = plt.figure(figsize=(10, 8))\n",
    "mean_tpr = 0.0\n",
    "mean_fpr = np.linspace(0, 1, 100)\n",
    "all_tpr = []\n",
    "for i, (train, test) in enumerate(cv.split(X_train,y_train)):\n",
    "    pipe.fit(X_train[train],y_train[train])\n",
    "    probas = pipe.predict_proba(X_train[test])    \n",
    "    fpr, tpr, thresholds = roc_curve(y_train[test],probas[:, 1],pos_label=1)\n",
    "    mean_tpr += interp(mean_fpr, fpr, tpr)\n",
    "    mean_tpr[0] = 0.0\n",
    "    roc_auc = auc(fpr, tpr)\n",
    "    plt.plot(fpr,tpr,lw=1,label='ROC fold %d (area = %0.2f)'% (i+1, roc_auc))\n",
    "plt.plot([0, 1],[0, 1],linestyle='--',color=(0.6, 0.6, 0.6),label='random guessing')\n",
    "mean_tpr /= splits#len(cv)\n",
    "mean_tpr[-1] = 1.0\n",
    "mean_auc = auc(mean_fpr, mean_tpr)\n",
    "plt.plot(mean_fpr, mean_tpr, 'k--',label='mean ROC (area = %0.2f)' % mean_auc, lw=2)\n",
    "plt.plot([0, 0, 1],[0, 1, 1],lw=2,linestyle=':',color='black',label='perfect performance')\n",
    "plt.xlim([-0.05, 1.05])\n",
    "plt.ylim([-0.05, 1.05])\n",
    "plt.xlabel('false positive rate')\n",
    "plt.ylabel('true positive rate')\n",
    "plt.title('Receiver Operator Characteristic')\n",
    "plt.legend(loc=\"lower right\")\n",
    "plt.show()"
   ]
  },
  {
   "cell_type": "markdown",
   "metadata": {},
   "source": [
    "### Cross Validation\n",
    "Cross-Validation has been described in [section Basic Concepts of Machine Learning](00BasicConcepts.ipynb). The code-cells below demonstrate how crossvalidation can be implemeted with Scikit-Learn. The first option, which applied the `StratifiedKFold()`-class provides more control within the individual iterations of CV. The second option, using `cross_val_score()` is the easier to implement, since only one line of code is required to implement it."
   ]
  },
  {
   "cell_type": "code",
   "execution_count": 29,
   "metadata": {},
   "outputs": [
    {
     "data": {
      "text/plain": [
       "267.3"
      ]
     },
     "execution_count": 29,
     "metadata": {},
     "output_type": "execute_result"
    }
   ],
   "source": [
    "X.shape[0]/10*9"
   ]
  },
  {
   "cell_type": "code",
   "execution_count": 30,
   "metadata": {
    "ExecuteTime": {
     "end_time": "2018-02-05T13:33:16.361000Z",
     "start_time": "2018-02-05T14:33:16.283000+01:00"
    }
   },
   "outputs": [
    {
     "name": "stdout",
     "output_type": "stream",
     "text": [
      "Fold: 1, Class dist.: [144 123], Acc: 0.867\n",
      "Fold: 2, Class dist.: [144 123], Acc: 0.867\n",
      "Fold: 3, Class dist.: [144 123], Acc: 0.767\n",
      "Fold: 4, Class dist.: [144 123], Acc: 0.967\n",
      "Fold: 5, Class dist.: [144 123], Acc: 0.800\n",
      "Fold: 6, Class dist.: [144 123], Acc: 0.767\n",
      "Fold: 7, Class dist.: [144 123], Acc: 0.767\n",
      "Fold: 8, Class dist.: [144 124], Acc: 0.897\n",
      "Fold: 9, Class dist.: [144 124], Acc: 0.724\n",
      "Fold: 10, Class dist.: [144 124], Acc: 0.862\n"
     ]
    }
   ],
   "source": [
    "kfold = StratifiedKFold(n_splits=10)\n",
    "scores = []\n",
    "for k, (train, test) in enumerate(kfold.split(X,y)):\n",
    "    pipe.fit(X[train], y[train])\n",
    "    score = pipe.score(X[test], y[test])\n",
    "    scores.append(score)\n",
    "    print('Fold: %s, Class dist.: %s, Acc: %.3f' % (k+1,np.bincount(y[train]), score))"
   ]
  },
  {
   "cell_type": "markdown",
   "metadata": {},
   "source": [
    "As can be seen in the example above, the `StratifiedKFold()`-class asserts, that the class-distribution in each cross-validation is the same. "
   ]
  },
  {
   "cell_type": "markdown",
   "metadata": {},
   "source": [
    "The same result can be obtained by applying the `cross_val_score`-function:"
   ]
  },
  {
   "cell_type": "code",
   "execution_count": 31,
   "metadata": {
    "ExecuteTime": {
     "end_time": "2018-02-05T13:34:48.520000Z",
     "start_time": "2018-02-05T14:34:48.427000+01:00"
    },
    "scrolled": true
   },
   "outputs": [
    {
     "name": "stdout",
     "output_type": "stream",
     "text": [
      "CV accuracy scores: [0.86666667 0.86666667 0.76666667 0.96666667 0.8        0.76666667\n",
      " 0.76666667 0.89655172 0.72413793 0.86206897]\n",
      "CV accuracy: 0.828 +/- 0.071\n"
     ]
    }
   ],
   "source": [
    "scores = cross_val_score(estimator=pipe,X=X, y=y,cv=10)\n",
    "print('CV accuracy scores: %s' % scores)\n",
    "print('CV accuracy: %.3f +/- %.3f' % (np.mean(scores), np.std(scores)))"
   ]
  },
  {
   "cell_type": "markdown",
   "metadata": {},
   "source": [
    "## Performance without One-Hot-Encoding\n",
    "Next, we like to find out, if the same linear classification algorithm - `LogisticRegression` - performs better, if One-Hot-Encoding is ignored. For this we remove the One-Hot-Encoder processing from the pipe:"
   ]
  },
  {
   "cell_type": "code",
   "execution_count": 32,
   "metadata": {
    "ExecuteTime": {
     "end_time": "2018-02-05T13:35:15.377000Z",
     "start_time": "2018-02-05T14:35:15.377000+01:00"
    }
   },
   "outputs": [],
   "source": [
    "pipe2 = Pipeline([('stdSc', StandardScaler(with_mean=True)),\n",
    "                 ('clf', LogisticRegression(C=0.1,random_state=1)) \n",
    "                ])"
   ]
  },
  {
   "cell_type": "code",
   "execution_count": 33,
   "metadata": {
    "ExecuteTime": {
     "end_time": "2018-02-05T13:35:55.862000Z",
     "start_time": "2018-02-05T14:35:55.846000+01:00"
    }
   },
   "outputs": [
    {
     "data": {
      "text/html": [
       "<style>#sk-container-id-2 {color: black;}#sk-container-id-2 pre{padding: 0;}#sk-container-id-2 div.sk-toggleable {background-color: white;}#sk-container-id-2 label.sk-toggleable__label {cursor: pointer;display: block;width: 100%;margin-bottom: 0;padding: 0.3em;box-sizing: border-box;text-align: center;}#sk-container-id-2 label.sk-toggleable__label-arrow:before {content: \"▸\";float: left;margin-right: 0.25em;color: #696969;}#sk-container-id-2 label.sk-toggleable__label-arrow:hover:before {color: black;}#sk-container-id-2 div.sk-estimator:hover label.sk-toggleable__label-arrow:before {color: black;}#sk-container-id-2 div.sk-toggleable__content {max-height: 0;max-width: 0;overflow: hidden;text-align: left;background-color: #f0f8ff;}#sk-container-id-2 div.sk-toggleable__content pre {margin: 0.2em;color: black;border-radius: 0.25em;background-color: #f0f8ff;}#sk-container-id-2 input.sk-toggleable__control:checked~div.sk-toggleable__content {max-height: 200px;max-width: 100%;overflow: auto;}#sk-container-id-2 input.sk-toggleable__control:checked~label.sk-toggleable__label-arrow:before {content: \"▾\";}#sk-container-id-2 div.sk-estimator input.sk-toggleable__control:checked~label.sk-toggleable__label {background-color: #d4ebff;}#sk-container-id-2 div.sk-label input.sk-toggleable__control:checked~label.sk-toggleable__label {background-color: #d4ebff;}#sk-container-id-2 input.sk-hidden--visually {border: 0;clip: rect(1px 1px 1px 1px);clip: rect(1px, 1px, 1px, 1px);height: 1px;margin: -1px;overflow: hidden;padding: 0;position: absolute;width: 1px;}#sk-container-id-2 div.sk-estimator {font-family: monospace;background-color: #f0f8ff;border: 1px dotted black;border-radius: 0.25em;box-sizing: border-box;margin-bottom: 0.5em;}#sk-container-id-2 div.sk-estimator:hover {background-color: #d4ebff;}#sk-container-id-2 div.sk-parallel-item::after {content: \"\";width: 100%;border-bottom: 1px solid gray;flex-grow: 1;}#sk-container-id-2 div.sk-label:hover label.sk-toggleable__label {background-color: #d4ebff;}#sk-container-id-2 div.sk-serial::before {content: \"\";position: absolute;border-left: 1px solid gray;box-sizing: border-box;top: 0;bottom: 0;left: 50%;z-index: 0;}#sk-container-id-2 div.sk-serial {display: flex;flex-direction: column;align-items: center;background-color: white;padding-right: 0.2em;padding-left: 0.2em;position: relative;}#sk-container-id-2 div.sk-item {position: relative;z-index: 1;}#sk-container-id-2 div.sk-parallel {display: flex;align-items: stretch;justify-content: center;background-color: white;position: relative;}#sk-container-id-2 div.sk-item::before, #sk-container-id-2 div.sk-parallel-item::before {content: \"\";position: absolute;border-left: 1px solid gray;box-sizing: border-box;top: 0;bottom: 0;left: 50%;z-index: -1;}#sk-container-id-2 div.sk-parallel-item {display: flex;flex-direction: column;z-index: 1;position: relative;background-color: white;}#sk-container-id-2 div.sk-parallel-item:first-child::after {align-self: flex-end;width: 50%;}#sk-container-id-2 div.sk-parallel-item:last-child::after {align-self: flex-start;width: 50%;}#sk-container-id-2 div.sk-parallel-item:only-child::after {width: 0;}#sk-container-id-2 div.sk-dashed-wrapped {border: 1px dashed gray;margin: 0 0.4em 0.5em 0.4em;box-sizing: border-box;padding-bottom: 0.4em;background-color: white;}#sk-container-id-2 div.sk-label label {font-family: monospace;font-weight: bold;display: inline-block;line-height: 1.2em;}#sk-container-id-2 div.sk-label-container {text-align: center;}#sk-container-id-2 div.sk-container {/* jupyter's `normalize.less` sets `[hidden] { display: none; }` but bootstrap.min.css set `[hidden] { display: none !important; }` so we also need the `!important` here to be able to override the default hidden behavior on the sphinx rendered scikit-learn.org. See: https://github.com/scikit-learn/scikit-learn/issues/21755 */display: inline-block !important;position: relative;}#sk-container-id-2 div.sk-text-repr-fallback {display: none;}</style><div id=\"sk-container-id-2\" class=\"sk-top-container\"><div class=\"sk-text-repr-fallback\"><pre>Pipeline(steps=[(&#x27;stdSc&#x27;, StandardScaler()),\n",
       "                (&#x27;clf&#x27;, LogisticRegression(C=0.1, random_state=1))])</pre><b>In a Jupyter environment, please rerun this cell to show the HTML representation or trust the notebook. <br />On GitHub, the HTML representation is unable to render, please try loading this page with nbviewer.org.</b></div><div class=\"sk-container\" hidden><div class=\"sk-item sk-dashed-wrapped\"><div class=\"sk-label-container\"><div class=\"sk-label sk-toggleable\"><input class=\"sk-toggleable__control sk-hidden--visually\" id=\"sk-estimator-id-9\" type=\"checkbox\" ><label for=\"sk-estimator-id-9\" class=\"sk-toggleable__label sk-toggleable__label-arrow\">Pipeline</label><div class=\"sk-toggleable__content\"><pre>Pipeline(steps=[(&#x27;stdSc&#x27;, StandardScaler()),\n",
       "                (&#x27;clf&#x27;, LogisticRegression(C=0.1, random_state=1))])</pre></div></div></div><div class=\"sk-serial\"><div class=\"sk-item\"><div class=\"sk-estimator sk-toggleable\"><input class=\"sk-toggleable__control sk-hidden--visually\" id=\"sk-estimator-id-10\" type=\"checkbox\" ><label for=\"sk-estimator-id-10\" class=\"sk-toggleable__label sk-toggleable__label-arrow\">StandardScaler</label><div class=\"sk-toggleable__content\"><pre>StandardScaler()</pre></div></div></div><div class=\"sk-item\"><div class=\"sk-estimator sk-toggleable\"><input class=\"sk-toggleable__control sk-hidden--visually\" id=\"sk-estimator-id-11\" type=\"checkbox\" ><label for=\"sk-estimator-id-11\" class=\"sk-toggleable__label sk-toggleable__label-arrow\">LogisticRegression</label><div class=\"sk-toggleable__content\"><pre>LogisticRegression(C=0.1, random_state=1)</pre></div></div></div></div></div></div></div>"
      ],
      "text/plain": [
       "Pipeline(steps=[('stdSc', StandardScaler()),\n",
       "                ('clf', LogisticRegression(C=0.1, random_state=1))])"
      ]
     },
     "execution_count": 33,
     "metadata": {},
     "output_type": "execute_result"
    }
   ],
   "source": [
    "pipe2.fit(X_train,y_train)"
   ]
  },
  {
   "cell_type": "code",
   "execution_count": 34,
   "metadata": {
    "ExecuteTime": {
     "end_time": "2018-02-05T13:36:40.864000Z",
     "start_time": "2018-02-05T14:36:40.864000+01:00"
    }
   },
   "outputs": [],
   "source": [
    "y_pred2=pipe2.predict(X_test)"
   ]
  },
  {
   "cell_type": "code",
   "execution_count": 35,
   "metadata": {
    "ExecuteTime": {
     "end_time": "2018-02-05T13:36:44.901000Z",
     "start_time": "2018-02-05T14:36:44.755000+01:00"
    }
   },
   "outputs": [
    {
     "name": "stdout",
     "output_type": "stream",
     "text": [
      "[[44  4]\n",
      " [12 30]]\n"
     ]
    },
    {
     "data": {
      "image/png": "[encoded data removed]",
      "text/plain": [
       "<Figure size 250x250 with 1 Axes>"
      ]
     },
     "metadata": {},
     "output_type": "display_data"
    }
   ],
   "source": [
    "confusion_mat2 = confusion_matrix(y_test, y_pred2)\n",
    "print(confusion_mat2)\n",
    "plot_confusion_matrix(confusion_mat2)"
   ]
  },
  {
   "cell_type": "code",
   "execution_count": 36,
   "metadata": {
    "ExecuteTime": {
     "end_time": "2018-02-05T13:36:50.441000Z",
     "start_time": "2018-02-05T14:36:50.425000+01:00"
    }
   },
   "outputs": [
    {
     "name": "stdout",
     "output_type": "stream",
     "text": [
      "Accuracy:        0.8222222222222222\n",
      "Precision:       [0.78571429 0.88235294]\n",
      "Recall:          [0.91666667 0.71428571]\n",
      "F1-Score:        [0.84615385 0.78947368]\n"
     ]
    }
   ],
   "source": [
    "print (\"Accuracy:       \",accuracy_score(y_test, y_pred2))\n",
    "print (\"Precision:      \",precision_score(y_test, y_pred2,average=None))\n",
    "print (\"Recall:         \",recall_score(y_test, y_pred2,average=None))\n",
    "print (\"F1-Score:       \",f1_score(y_test, y_pred2,average=None))"
   ]
  },
  {
   "cell_type": "code",
   "execution_count": 37,
   "metadata": {},
   "outputs": [
    {
     "name": "stdout",
     "output_type": "stream",
     "text": [
      "              precision    recall  f1-score   support\n",
      "\n",
      "           0       0.79      0.92      0.85        48\n",
      "           1       0.88      0.71      0.79        42\n",
      "\n",
      "    accuracy                           0.82        90\n",
      "   macro avg       0.83      0.82      0.82        90\n",
      "weighted avg       0.83      0.82      0.82        90\n",
      "\n"
     ]
    }
   ],
   "source": [
    "print(classification_report(y_test,y_pred2))"
   ]
  },
  {
   "cell_type": "markdown",
   "metadata": {},
   "source": [
    "Cross Validation"
   ]
  },
  {
   "cell_type": "code",
   "execution_count": 38,
   "metadata": {
    "ExecuteTime": {
     "end_time": "2018-02-05T13:36:54.751000Z",
     "start_time": "2018-02-05T14:36:54.689000+01:00"
    }
   },
   "outputs": [
    {
     "name": "stdout",
     "output_type": "stream",
     "text": [
      "CV accuracy scores: [0.86666667 0.83333333 0.76666667 0.96666667 0.8        0.76666667\n",
      " 0.8        0.86206897 0.75862069 0.86206897]\n",
      "CV accuracy: 0.828 +/- 0.061\n"
     ]
    }
   ],
   "source": [
    "scores = cross_val_score(estimator=pipe2,X=X, y=y,cv=10,n_jobs=1)\n",
    "print('CV accuracy scores: %s' % scores)\n",
    "print('CV accuracy: %.3f +/- %.3f' % (np.mean(scores), np.std(scores)))"
   ]
  },
  {
   "cell_type": "markdown",
   "metadata": {
    "slideshow": {
     "slide_type": "subslide"
    }
   },
   "source": [
    "From the comparison of the metrics of the two experiments - with and without One-Hot-Encoding - we conclude:\n",
    "\n",
    "1. The pipe without One-Hot-Encoding yields a better accuracy\n",
    "2. Also the most important metric for an application like this, the recall of class disease, is much better without One-Hot-Encoding."
   ]
  },
  {
   "cell_type": "markdown",
   "metadata": {},
   "source": [
    "## Explain model by analysing feature importance\n",
    "Understanding the learned model and it's decision process is crucial for many ML-applications. Methods that provide an understanding of the model are summarised under the term **explainability.**\n",
    "\n",
    "Binary Linear classifiers learn the parameters $c_i$ of a linear function\n",
    "\n",
    "$$\n",
    "c(\\mathbf{x})=c_0 + c_1 x_1 + c_2 x_2 + \\ldots + c_d x_d, \n",
    "$$\n",
    "\n",
    "where $x_i$ refers to the $i.th$ input-feature.\n",
    "\n",
    "The learned coefficients $c_i$ indicate the influence of the $i.th$ input-feature on the classification-decision and therefore provide explainability. More concrete:\n",
    "\n",
    "* the sign of the $i.th$ coefficient determines if the $i.th$ input-feature has a positive or a negative influence on predicting the class, which belongs to the higher index. I.e. if the sign of the $c_i$ is positive, then an increasing value of $x_i$ yields a stronger trend towards the class with index $1$. Correspondingly, if the sign of the $c_i$ is negative, then an increasing value of $x_i$ yields a stronger trend towards the class with index $0$.\n",
    "* the magnitude of the $i.th$ coefficient, determines how strong the $i.th$ input-feature influences the decision. If the value of $c_i$ is close to 0, then the $i.th$ feature $x_i$ has almost no influence on the classifier's decision."
   ]
  },
  {
   "cell_type": "markdown",
   "metadata": {},
   "source": [
    "The learned classifier within the pipe can be accessed by `pipe2.steps[1][1]`. Since this model is an object of class [LogisticRegression](https://scikit-learn.org/stable/modules/generated/sklearn.linear_model.LogisticRegression.html), it's learned coefficients $c_i$ can be accessed by the `coef_`-attribute:"
   ]
  },
  {
   "cell_type": "code",
   "execution_count": 39,
   "metadata": {
    "ExecuteTime": {
     "end_time": "2018-02-05T13:37:20.801000Z",
     "start_time": "2018-02-05T14:37:20.801000+01:00"
    }
   },
   "outputs": [
    {
     "name": "stdout",
     "output_type": "stream",
     "text": [
      "[[ 0.11726704  0.34678085  0.45483522  0.4162915   0.13773092 -0.13983385\n",
      "   0.10235511 -0.3609869   0.45228867  0.32454779  0.21666456  0.5236764\n",
      "   0.53528568]]\n",
      "(1, 13)\n"
     ]
    }
   ],
   "source": [
    "feature_importance= pipe2.steps[1][1].coef_\n",
    "print(feature_importance)\n",
    "print(feature_importance.shape)"
   ]
  },
  {
   "cell_type": "markdown",
   "metadata": {},
   "source": [
    "These coefficients are visualized in the cell below:"
   ]
  },
  {
   "cell_type": "code",
   "execution_count": 40,
   "metadata": {
    "ExecuteTime": {
     "end_time": "2018-02-05T13:37:22.119000Z",
     "start_time": "2018-02-05T14:37:21.791000+01:00"
    }
   },
   "outputs": [
    {
     "data": {
      "image/png": "[encoded data removed]",
      "text/plain": [
       "<Figure size 1200x700 with 1 Axes>"
      ]
     },
     "metadata": {},
     "output_type": "display_data"
    }
   ],
   "source": [
    "n_feats=len(feature_importance[0])\n",
    "plt.figure(figsize=(12,7))\n",
    "plt.bar(range(n_feats),feature_importance[0],)\n",
    "plt.xticks(np.arange(n_feats)+0.4,featureNames,rotation=90,fontsize=12)\n",
    "plt.grid(True)\n",
    "plt.title(\"Importance of Features\")\n",
    "plt.show()"
   ]
  },
  {
   "cell_type": "markdown",
   "metadata": {},
   "source": [
    "From this plot we can infer for example: \n",
    "* the parameter `thal` (heartrate) has the strongest influence on class `disease`. As defined above `thal=3` indicates a normal heartrate and `thal=6` and `thal=7` refer to pathological heartrates. Since the sign of `thal` is positive: The higher the value, the more likely is class `disease`.\n",
    "* the parameter `thalach` (maximum achieved heartrate) has the strongest negative impact on `disease`. The higher the maximum achieved heartrate the less likely is class `disease`."
   ]
  },
  {
   "cell_type": "markdown",
   "metadata": {},
   "source": [
    "## Multiclass Model\n",
    "In the previous section we considered the disease-detection problem as a binary-classification task. We have not been interesting in the level of disease, we just wanted to know if the input-features indicate any disease or not. \n",
    "\n",
    "However, in the dataset 4 different levels of disease are distinguished. We know won't treat all diseases as one but like to distinguish the different levels. Since we have 4 different diseases and the non-disease case, we now have to implement multiclass-classifier for 5 different classes."
   ]
  },
  {
   "cell_type": "markdown",
   "metadata": {},
   "source": [
    "The first 50 class labels:"
   ]
  },
  {
   "cell_type": "code",
   "execution_count": 41,
   "metadata": {
    "ExecuteTime": {
     "end_time": "2018-02-05T13:38:20.549000Z",
     "start_time": "2018-02-05T14:38:20.534000+01:00"
    }
   },
   "outputs": [
    {
     "name": "stdout",
     "output_type": "stream",
     "text": [
      "[0 2 1 0 0 0 3 0 2 1 0 0 2 0 0 0 1 0 0 0 0 0 1 3 4 0 0 0 0 3 0 2 1 0 0 0 3\n",
      " 1 3 0 4 0 0 0 1 4 0 4 0 0]\n"
     ]
    }
   ],
   "source": [
    "y=indf[\"num\"].values\n",
    "print(y[:50])"
   ]
  },
  {
   "cell_type": "markdown",
   "metadata": {},
   "source": [
    "Distribution of class labels:"
   ]
  },
  {
   "cell_type": "code",
   "execution_count": 42,
   "metadata": {
    "ExecuteTime": {
     "end_time": "2018-02-05T13:38:22.018000Z",
     "start_time": "2018-02-05T14:38:21.831000+01:00"
    }
   },
   "outputs": [
    {
     "name": "stdout",
     "output_type": "stream",
     "text": [
      "(array([160.,  54.,  35.,  35.,  13.]), array([0., 1., 2., 3., 4., 5.]), <BarContainer object of 5 artists>)\n"
     ]
    },
    {
     "data": {
      "image/png": "[encoded data removed]",
      "text/plain": [
       "<Figure size 640x480 with 1 Axes>"
      ]
     },
     "metadata": {},
     "output_type": "display_data"
    }
   ],
   "source": [
    "labelhist=plt.hist(y,bins=[0,1,2,3,4,5])\n",
    "plt.xticks(np.arange(5)+0.5,np.arange(5))\n",
    "plt.title(\"Distribution of class-labels over \")\n",
    "print(labelhist)"
   ]
  },
  {
   "cell_type": "markdown",
   "metadata": {},
   "source": [
    "The class-distribution, visualized above indicates a severe problem in Machine Learning: We have a relatively low number of labeled data and the number of samples per class strongly varies. This so called **inbalanced data problem** may yield a model, which is strongly *biased* towards the class(es), with much samples (class 0 in this case)."
   ]
  },
  {
   "cell_type": "code",
   "execution_count": 43,
   "metadata": {
    "ExecuteTime": {
     "end_time": "2018-02-05T13:38:25.721000Z",
     "start_time": "2018-02-05T14:38:25.706000+01:00"
    }
   },
   "outputs": [],
   "source": [
    "X_train, X_test, y_train, y_test = train_test_split(X, y, test_size=0.3, random_state=0)"
   ]
  },
  {
   "cell_type": "code",
   "execution_count": 44,
   "metadata": {
    "ExecuteTime": {
     "end_time": "2018-02-05T13:38:31.754000Z",
     "start_time": "2018-02-05T14:38:31.738000+01:00"
    }
   },
   "outputs": [],
   "source": [
    "pipe3 = Pipeline([('stdSc', StandardScaler(with_mean=True)),\n",
    "                 ('clf', LogisticRegression(C=0.1,random_state=1)),\n",
    "                 #('clf', LogisticRegression(C=0.1,class_weight=\"balanced\",random_state=1)), \n",
    "                ])\n",
    "pipe3.fit(X_train,y_train)\n",
    "y_pred3=pipe3.predict(X_test)"
   ]
  },
  {
   "cell_type": "code",
   "execution_count": 45,
   "metadata": {
    "ExecuteTime": {
     "end_time": "2018-02-05T13:38:35.136000Z",
     "start_time": "2018-02-05T14:38:34.907000+01:00"
    }
   },
   "outputs": [
    {
     "name": "stdout",
     "output_type": "stream",
     "text": [
      "[[44  3  1  0  0]\n",
      " [12  1  1  3  0]\n",
      " [ 1  2  2  5  0]\n",
      " [ 2  1  5  1  1]\n",
      " [ 2  1  2  0  0]]\n"
     ]
    },
    {
     "data": {
      "image/png": "[encoded data removed]",
      "text/plain": [
       "<Figure size 250x250 with 1 Axes>"
      ]
     },
     "metadata": {},
     "output_type": "display_data"
    }
   ],
   "source": [
    "confusion_mat3 = confusion_matrix(y_test, y_pred3)\n",
    "print(confusion_mat3)\n",
    "plot_confusion_matrix(confusion_mat3)"
   ]
  },
  {
   "cell_type": "code",
   "execution_count": 46,
   "metadata": {
    "ExecuteTime": {
     "end_time": "2018-02-05T13:38:49.292000Z",
     "start_time": "2018-02-05T14:38:49.276000+01:00"
    }
   },
   "outputs": [
    {
     "name": "stdout",
     "output_type": "stream",
     "text": [
      "Accuracy:        0.5333333333333333\n",
      "Precision:       [0.72131148 0.125      0.18181818 0.11111111 0.        ]\n",
      "Recall:          [0.91666667 0.05882353 0.2        0.1        0.        ]\n",
      "F1-Score:        [0.80733945 0.08       0.19047619 0.10526316 0.        ]\n"
     ]
    }
   ],
   "source": [
    "print(\"Accuracy:       \",accuracy_score(y_test, y_pred3))\n",
    "print(\"Precision:      \",precision_score(y_test, y_pred3,average=None))\n",
    "print(\"Recall:         \",recall_score(y_test, y_pred3,average=None))\n",
    "print(\"F1-Score:       \",f1_score(y_test, y_pred3,average=None))"
   ]
  },
  {
   "cell_type": "code",
   "execution_count": 47,
   "metadata": {
    "ExecuteTime": {
     "end_time": "2018-02-05T13:39:43.661000Z",
     "start_time": "2018-02-05T14:39:43.520000+01:00"
    }
   },
   "outputs": [
    {
     "name": "stdout",
     "output_type": "stream",
     "text": [
      "CV accuracy scores: [0.6        0.6        0.56666667 0.66666667 0.53333333 0.53333333\n",
      " 0.56666667 0.5862069  0.55172414 0.68965517]\n",
      "CV accuracy: 0.589 +/- 0.050\n"
     ]
    }
   ],
   "source": [
    "scores = cross_val_score(estimator=pipe3,X=X, y=y,cv=10,n_jobs=1)\n",
    "print('CV accuracy scores: %s' % scores)\n",
    "print('CV accuracy: %.3f +/- %.3f' % (np.mean(scores), np.std(scores)))"
   ]
  },
  {
   "cell_type": "code",
   "execution_count": 48,
   "metadata": {},
   "outputs": [
    {
     "name": "stdout",
     "output_type": "stream",
     "text": [
      "              precision    recall  f1-score   support\n",
      "\n",
      "           0       0.72      0.92      0.81        48\n",
      "           1       0.12      0.06      0.08        17\n",
      "           2       0.18      0.20      0.19        10\n",
      "           3       0.11      0.10      0.11        10\n",
      "           4       0.00      0.00      0.00         5\n",
      "\n",
      "    accuracy                           0.53        90\n",
      "   macro avg       0.23      0.26      0.24        90\n",
      "weighted avg       0.44      0.53      0.48        90\n",
      "\n"
     ]
    }
   ],
   "source": [
    "print(classification_report(y_test,y_pred3))"
   ]
  },
  {
   "cell_type": "markdown",
   "metadata": {},
   "source": [
    "The confusion matrix and the classification-metrics show, that we actually ran into the **inbalanced class problem**. Due to the over-presence of class-0-data, most of the test-data is classified to be class 0. Hence the recall in the other classes is quite small."
   ]
  },
  {
   "cell_type": "markdown",
   "metadata": {},
   "source": [
    "## Efficient and fast comparison of different processing pipelines"
   ]
  },
  {
   "cell_type": "markdown",
   "metadata": {},
   "source": [
    "Machine Learning is an empirical science. In order to find a good model for the given task and data one must implement many processing pipelines with different algorithms, hyper-parameters and pre-processing-routines. Each of these configurations must be learned and validated. \n",
    "\n",
    "The scikit-learn `Pipeline`-class supports the configuration, training and validation of multiple processing-pipelines and there efficient comparison. This is demonstrated in this subsection. \n",
    "\n",
    "For simplicity reasons, in this subsection we again consider the binary-classification problem. I.e\n",
    "\n",
    "* class-label 0 is clipped to 0\n",
    "* class-labels 1,2,3,4 are clipped to 1\n"
   ]
  },
  {
   "cell_type": "code",
   "execution_count": 49,
   "metadata": {
    "ExecuteTime": {
     "end_time": "2018-02-05T13:39:54.425000Z",
     "start_time": "2018-02-05T14:39:54.425000+01:00"
    }
   },
   "outputs": [
    {
     "name": "stdout",
     "output_type": "stream",
     "text": [
      "First class labels:   [0 1 1 0 0 0 1 0]\n"
     ]
    }
   ],
   "source": [
    "BINCLASS=True\n",
    "y=indf[\"num\"].values\n",
    "if BINCLASS:\n",
    "    y=np.clip(y,a_min=0,a_max=1)\n",
    "print(\"First class labels:  \",y[:8])\n",
    "X_train, X_test, y_train, y_test = train_test_split(X, y, test_size=0.3, random_state=0)"
   ]
  },
  {
   "cell_type": "markdown",
   "metadata": {},
   "source": [
    "First we define multiple pipelines:"
   ]
  },
  {
   "cell_type": "code",
   "execution_count": 50,
   "metadata": {
    "ExecuteTime": {
     "end_time": "2018-02-05T13:39:59.863000Z",
     "start_time": "2018-02-05T14:39:59.628000+01:00"
    }
   },
   "outputs": [],
   "source": [
    "catFeats=[2,6,12]\n",
    "pipe1 = Pipeline([\n",
    "                 ('clf', LogisticRegression(C=0.1,random_state=1)) \n",
    "                ])\n",
    "\n",
    "pipe2 = Pipeline([('oneHot', compose.make_column_transformer((OneHotEncoder(categories=\"auto\"), catFeats), remainder=\"passthrough\"\n",
    ")),\n",
    "                 ('clf', LogisticRegression(C=0.1,random_state=1)) \n",
    "                ])\n",
    "\n",
    "pipe3 = Pipeline([('stdSc', StandardScaler(with_mean=True)),\n",
    "                 ('clf', LogisticRegression(C=0.1,random_state=1)) \n",
    "                ])\n",
    "pipe4 = Pipeline([('oneHot', compose.make_column_transformer((OneHotEncoder(categories=\"auto\"), catFeats), remainder=\"passthrough\"\n",
    ")),\n",
    "                 ('stdSc', StandardScaler(with_mean=True)),\n",
    "                 #('pca', PCA(n_components=2)),\n",
    "                 ('clf', LogisticRegression(C=0.1,random_state=1)) \n",
    "                ])\n",
    "pipe5 = Pipeline([('oneHot', compose.make_column_transformer((OneHotEncoder(categories=\"auto\"), catFeats), remainder=\"passthrough\"\n",
    ")),\n",
    "                 ('stdSc', StandardScaler(with_mean=False)),\n",
    "                 #('pca', PCA(n_components=2)),\n",
    "                 ('clf', LogisticRegression(C=0.1,random_state=1)) \n",
    "                ])\n",
    "pipe6 = Pipeline([('oneHot', compose.make_column_transformer((OneHotEncoder(categories=\"auto\"), catFeats), remainder=\"passthrough\"\n",
    ")),\n",
    "                 ('stdSc', MinMaxScaler()),\n",
    "                 #('pca', PCA(n_components=2)),\n",
    "                 ('clf', LogisticRegression(C=0.1,random_state=1)) \n",
    "                ])\n",
    "pipe7 = Pipeline([('oneHot', compose.make_column_transformer((OneHotEncoder(categories=\"auto\"), catFeats), remainder=\"passthrough\"\n",
    ")),\n",
    "                 ('stdSc', StandardScaler(with_mean=True)),\n",
    "                 ('featsel',SelectKBest(f_classif,k=8)), \n",
    "                 #('pca', PCA(n_components=2)),\n",
    "                 ('clf', LogisticRegression(C=0.1,random_state=1)) \n",
    "                ])\n",
    "pipe8 = Pipeline([('oneHot', compose.make_column_transformer((OneHotEncoder(categories=\"auto\"), catFeats), remainder=\"passthrough\"\n",
    ")),\n",
    "                 ('stdSc', StandardScaler(with_mean=True)), \n",
    "                 ('pca', PCA(n_components=2)),\n",
    "                 ('clf', LogisticRegression(C=0.1,random_state=1)) \n",
    "                ])\n",
    "pipe9 = Pipeline([('oneHot', compose.make_column_transformer((OneHotEncoder(categories=\"auto\"), catFeats), remainder=\"passthrough\"\n",
    ")),\n",
    "                 ('stdSc', StandardScaler(with_mean=True)), \n",
    "                 ('lda', LinearDiscriminantAnalysis(n_components=1)),\n",
    "                 ('clf', LogisticRegression(C=0.1,random_state=1)) \n",
    "                ])"
   ]
  },
  {
   "cell_type": "markdown",
   "metadata": {},
   "source": [
    "In the next cell we apply cross-validation for each of the pipelines defined above:"
   ]
  },
  {
   "cell_type": "code",
   "execution_count": 51,
   "metadata": {
    "ExecuteTime": {
     "end_time": "2018-02-05T13:39:59.863000Z",
     "start_time": "2018-02-05T14:39:59.628000+01:00"
    }
   },
   "outputs": [],
   "source": [
    "scores = [\n",
    "    cross_val_score(mypipe, X, y, scoring='accuracy')\n",
    "            for mypipe in [pipe1,pipe2,pipe3,pipe4,pipe5,pipe6,pipe7,pipe8,pipe9]\n",
    "    ]"
   ]
  },
  {
   "cell_type": "markdown",
   "metadata": {},
   "source": [
    "The code cell below just cares for a more informative output of the accuracy-values of each pipe:"
   ]
  },
  {
   "cell_type": "code",
   "execution_count": 52,
   "metadata": {
    "ExecuteTime": {
     "end_time": "2018-02-05T13:40:11.748000Z",
     "start_time": "2018-02-05T14:40:11.748000+01:00"
    }
   },
   "outputs": [
    {
     "name": "stdout",
     "output_type": "stream",
     "text": [
      "Accuracy: 83.15% (+/- 2.50%), only logistic Regression\n",
      "Accuracy: 84.84% (+/- 3.41%), LogReg+OneHotEncoding\n",
      "Accuracy: 82.81% (+/- 3.01%), LogReg+Scaling with mean\n",
      "Accuracy: 82.82% (+/- 4.48%), LogReg+OneHot+StdScaling with mean\n",
      "Accuracy: 82.82% (+/- 4.48%), LogReg+OneHot+StdScaling without mean\n",
      "Accuracy: 82.47% (+/- 3.01%), LogReg+OneHot+MinmaxScaling\n",
      "Accuracy: 84.14% (+/- 4.69%), LogReg+OneHot+StdScaling with mean + select k best\n",
      "Accuracy: 84.17% (+/- 3.46%), LogReg+OneHot+StdScaling with mean + PCA\n",
      "Accuracy: 83.15% (+/- 4.91%), LogReg+OneHot+StdScaling with mean + LDA\n"
     ]
    }
   ],
   "source": [
    "for score,label in zip(scores, \n",
    "                       ['only logistic Regression', \n",
    "                        'LogReg+OneHotEncoding',\n",
    "                        'LogReg+Scaling with mean', \n",
    "                        'LogReg+OneHot+StdScaling with mean',\n",
    "                        'LogReg+OneHot+StdScaling without mean',\n",
    "                        'LogReg+OneHot+MinmaxScaling',\n",
    "                        'LogReg+OneHot+StdScaling with mean + select k best',\n",
    "                        'LogReg+OneHot+StdScaling with mean + PCA',\n",
    "                        'LogReg+OneHot+StdScaling with mean + LDA',\n",
    "                        ]\n",
    "                       ):\n",
    "    print(\"Accuracy: {:.2%} (+/- {:.2%}), {:}\".format(score.mean(), score.std(), label))"
   ]
  },
  {
   "cell_type": "markdown",
   "metadata": {},
   "source": [
    "Among the implemented processing chains, the one with one-hot-encoding and logistic regression performs best."
   ]
  },
  {
   "cell_type": "markdown",
   "metadata": {},
   "source": [
    "### Parameterized Pipelines\n",
    "As shown in the next cell, pipeline-objects can also be parameterized. Here, Multi-Layer-Perceptrons with different numbers of hidden layers and different numbers of neurons per hidden-layer are compared."
   ]
  },
  {
   "cell_type": "code",
   "execution_count": 53,
   "metadata": {},
   "outputs": [],
   "source": [
    "pipelist=[]\n",
    "hiddenConfs=[(10,),(30,),(50,),(100,),(10,10),(30,30),(50,50),(100,50),(100,100),(200,100),(200,200)]\n",
    "for idx,hid in enumerate(hiddenConfs):\n",
    "    pipe=Pipeline([\n",
    "                    (\"mlp_\"+str(idx),MLPClassifier(hidden_layer_sizes=hid,max_iter=1000))\n",
    "                  ])\n",
    "    pipelist.append(pipe)"
   ]
  },
  {
   "cell_type": "code",
   "execution_count": 54,
   "metadata": {},
   "outputs": [],
   "source": [
    "scores = [ cross_val_score(reg,X,y,scoring='accuracy') for reg in pipelist ]"
   ]
  },
  {
   "cell_type": "code",
   "execution_count": 55,
   "metadata": {
    "scrolled": true
   },
   "outputs": [
    {
     "name": "stdout",
     "output_type": "stream",
     "text": [
      "Accuracy:  0.66 (+/-  0.17) \t for network (10,) \n",
      "Accuracy:  0.80 (+/-  0.03) \t for network (30,) \n",
      "Accuracy:  0.74 (+/-  0.07) \t for network (50,) \n",
      "Accuracy:  0.79 (+/-  0.03) \t for network (100,) \n",
      "Accuracy:  0.80 (+/-  0.03) \t for network (10, 10) \n",
      "Accuracy:  0.80 (+/-  0.02) \t for network (30, 30) \n",
      "Accuracy:  0.77 (+/-  0.02) \t for network (50, 50) \n",
      "Accuracy:  0.76 (+/-  0.05) \t for network (100, 50) \n",
      "Accuracy:  0.75 (+/-  0.03) \t for network (100, 100) \n",
      "Accuracy:  0.77 (+/-  0.04) \t for network (200, 100) \n",
      "Accuracy:  0.73 (+/-  0.10) \t for network (200, 200) \n"
     ]
    }
   ],
   "source": [
    "for score,label in zip(scores,hiddenConfs):\n",
    "    print(\"Accuracy: %5.2f (+/- %5.2f) \\t for network %s \"%(score.mean(), score.std(), label))"
   ]
  },
  {
   "cell_type": "markdown",
   "metadata": {},
   "source": [
    "None of the pipelines above, integrates scaling. However, scaling of input-features is crucial for neural networks. The next pipeline-list contains the same pipelines as above, but now with *MinMax-Scaling*.\n",
    "As can be seen, the accuracy-values are much better now:"
   ]
  },
  {
   "cell_type": "code",
   "execution_count": 56,
   "metadata": {},
   "outputs": [],
   "source": [
    "pipelist=[]\n",
    "hiddenConfs=[(10,),(30,),(50,),(100,),(10,10),(30,30),(50,50),(100,50),(100,100),(200,100),(200,200)]\n",
    "for idx,hid in enumerate(hiddenConfs):\n",
    "    pipe=Pipeline([('stdSc', MinMaxScaler()),\n",
    "                    (\"mlp_\"+str(idx),MLPClassifier(hidden_layer_sizes=hid,max_iter=1000))\n",
    "                  ])\n",
    "    pipelist.append(pipe)"
   ]
  },
  {
   "cell_type": "code",
   "execution_count": 57,
   "metadata": {},
   "outputs": [],
   "source": [
    "scores = [ cross_val_score(reg,X,y,scoring='accuracy') for reg in pipelist ]"
   ]
  },
  {
   "cell_type": "code",
   "execution_count": 58,
   "metadata": {},
   "outputs": [
    {
     "name": "stdout",
     "output_type": "stream",
     "text": [
      "Accuracy:  0.82 (+/-  0.02) \t for network (10,) \n",
      "Accuracy:  0.82 (+/-  0.04) \t for network (30,) \n",
      "Accuracy:  0.82 (+/-  0.04) \t for network (50,) \n",
      "Accuracy:  0.82 (+/-  0.04) \t for network (100,) \n",
      "Accuracy:  0.79 (+/-  0.03) \t for network (10, 10) \n",
      "Accuracy:  0.80 (+/-  0.05) \t for network (30, 30) \n",
      "Accuracy:  0.79 (+/-  0.04) \t for network (50, 50) \n",
      "Accuracy:  0.78 (+/-  0.04) \t for network (100, 50) \n",
      "Accuracy:  0.79 (+/-  0.03) \t for network (100, 100) \n",
      "Accuracy:  0.81 (+/-  0.03) \t for network (200, 100) \n",
      "Accuracy:  0.79 (+/-  0.03) \t for network (200, 200) \n"
     ]
    }
   ],
   "source": [
    "for score,label in zip(scores,hiddenConfs):\n",
    "    print(\"Accuracy: %5.2f (+/- %5.2f) \\t for network %s \"%(score.mean(), score.std(), label))"
   ]
  },
  {
   "cell_type": "code",
   "execution_count": null,
   "metadata": {},
   "outputs": [],
   "source": []
  }
 ],
 "metadata": {
  "anaconda-cloud": {},
  "kernelspec": {
   "display_name": "Python 3 (ipykernel)",
   "language": "python",
   "name": "python3"
  },
  "language_info": {
   "codemirror_mode": {
    "name": "ipython",
    "version": 3
   },
   "file_extension": ".py",
   "mimetype": "text/x-python",
   "name": "python",
   "nbconvert_exporter": "python",
   "pygments_lexer": "ipython3",
   "version": "3.10.13"
  },
  "nav_menu": {},
  "toc": {
   "base_numbering": 1,
   "nav_menu": {},
   "number_sections": true,
   "sideBar": false,
   "skip_h1_title": false,
   "title_cell": "Table of Contents",
   "title_sidebar": "Contents",
   "toc_cell": false,
   "toc_position": {},
   "toc_section_display": false,
   "toc_window_display": false
  },
  "toc_position": {
   "height": "643px",
   "left": "0px",
   "right": "1484px",
   "top": "125.233px",
   "width": "212px"
  }
 },
 "nbformat": 4,
 "nbformat_minor": 4
}
